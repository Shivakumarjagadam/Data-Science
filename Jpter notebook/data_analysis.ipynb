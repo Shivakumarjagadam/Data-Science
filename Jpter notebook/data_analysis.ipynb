{
  "cells": [
    {
      "cell_type": "markdown",
      "metadata": {
        "id": "M-hpPn1j99If"
      },
      "source": [
        "# Introduction to Pandas and Data Analysis"
      ]
    },
    {
      "cell_type": "code",
      "execution_count": 6,
      "metadata": {
        "id": "KGYTBZqI3iZa"
      },
      "outputs": [],
      "source": [
        "import pandas as pd\n",
        "import matplotlib.pyplot as plt"
      ]
    },
    {
      "cell_type": "code",
      "execution_count": 7,
      "metadata": {
        "colab": {
          "base_uri": "https://localhost:8080/"
        },
        "id": "xUvxvn3G3jaf",
        "outputId": "fe1568af-e9e2-4f08-9749-c49fd84ac9fd"
      },
      "outputs": [
        {
          "name": "stdout",
          "output_type": "stream",
          "text": [
            "Pandas Series:\n",
            " day1    420\n",
            "day2    380\n",
            "day3    390\n",
            "dtype: int64\n"
          ]
        }
      ],
      "source": [
        "import pandas as pd\n",
        "import matplotlib.pyplot as plt\n",
        "\n",
        "# Create a Pandas Series from a dictionary\n",
        "calories = {\"day1\": 420, \"day2\": 380, \"day3\": 390}\n",
        "myvar = pd.Series(calories)\n",
        "print(\"Pandas Series:\\n\", myvar)"
      ]
    },
    {
      "cell_type": "code",
      "execution_count": 8,
      "metadata": {
        "id": "fzD6XJIQ3p0T"
      },
      "outputs": [],
      "source": [
        "import pandas as pd\n",
        "import matplotlib.pyplot as plt     \n",
        "\n",
        "# Create a Pandas DataFrame from a dictionary\n",
        "mydataset = {\n",
        "  'cars': [\"BMW\", \"Volvo\", \"Ford\", \"Audi\", \"BMW\", \"Ford\", \"Volvo\", \"Audi\"],\n",
        "  'passings': [3, 7, 2, 6, 5, 4, 5, 2]\n",
        "}"
      ]
    },
    {
      "cell_type": "code",
      "execution_count": 9,
      "metadata": {
        "colab": {
          "base_uri": "https://localhost:8080/"
        },
        "id": "E5iJLWHl3ruf",
        "outputId": "adfa24e8-8c47-4358-b26e-0ceb6389b72f"
      },
      "outputs": [
        {
          "name": "stdout",
          "output_type": "stream",
          "text": [
            "\n",
            "DataFrame:\n",
            "     cars  passings\n",
            "0    BMW         3\n",
            "1  Volvo         7\n",
            "2   Ford         2\n",
            "3   Audi         6\n",
            "4    BMW         5\n",
            "5   Ford         4\n",
            "6  Volvo         5\n",
            "7   Audi         2\n"
          ]
        }
      ],
      "source": [
        "import pandas as pd\n",
        "import matplotlib.pyplot as plt\n",
        "mydf = pd.DataFrame(mydataset)\n",
        "print(\"\\nDataFrame:\\n\", mydf)"
      ]
    },
    {
      "cell_type": "code",
      "execution_count": 10,
      "metadata": {
        "colab": {
          "base_uri": "https://localhost:8080/"
        },
        "id": "R6lcgWCG4F6_",
        "outputId": "bd25d115-7fc6-4f22-de0e-a0d6d1c55c0b"
      },
      "outputs": [
        {
          "name": "stdout",
          "output_type": "stream",
          "text": [
            "\n",
            "Type of DataFrame: <class 'pandas.core.frame.DataFrame'>\n"
          ]
        }
      ],
      "source": [
        "import pandas as pd\n",
        "import matplotlib.pyplot as plt\n",
        "# Get the type of the DataFrame object\n",
        "print(\"\\nType of DataFrame:\", type(mydf))"
      ]
    },
    {
      "cell_type": "code",
      "execution_count": null,
      "metadata": {},
      "outputs": [],
      "source": []
    },
    {
      "cell_type": "code",
      "execution_count": 11,
      "metadata": {
        "colab": {
          "base_uri": "https://localhost:8080/"
        },
        "id": "tJFMbQLt4Lb9",
        "outputId": "8058cbe3-4e21-440b-a23b-91c111938b0b"
      },
      "outputs": [
        {
          "name": "stdout",
          "output_type": "stream",
          "text": [
            "\n",
            "Shape of DataFrame (rows, columns): (8, 2)\n"
          ]
        }
      ],
      "source": [
        "# Get the number of rows and columns in the DataFrame\n",
        "print(\"\\nShape of DataFrame (rows, columns):\", mydf.shape)"
      ]
    },
    {
      "cell_type": "code",
      "execution_count": 12,
      "metadata": {
        "colab": {
          "base_uri": "https://localhost:8080/"
        },
        "id": "C0XwJQcW4PTv",
        "outputId": "fad528bf-54ec-4b2e-b554-47c58497e620"
      },
      "outputs": [
        {
          "name": "stdout",
          "output_type": "stream",
          "text": [
            "\n",
            "Column names: Index(['cars', 'passings'], dtype='object')\n"
          ]
        }
      ],
      "source": [
        "# Get the column names of the DataFrame\n",
        "print(\"\\nColumn names:\", mydf.columns)"
      ]
    },
    {
      "cell_type": "code",
      "execution_count": 15,
      "metadata": {
        "colab": {
          "base_uri": "https://localhost:8080/"
        },
        "id": "v5FtqCLK4QDM",
        "outputId": "ed875506-b681-4614-b7cb-083072b40808"
      },
      "outputs": [
        {
          "name": "stdout",
          "output_type": "stream",
          "text": [
            "\n",
            "First row (index 0):\n",
            " cars        Volvo\n",
            "passings        7\n",
            "Name: 1, dtype: object\n"
          ]
        }
      ],
      "source": [
        "# Integer-based indexing using iloc\n",
        "# Refer to the first row (index 0)\n",
        "print(\"\\nFirst row (index 0):\\n\", mydf.loc[1])"
      ]
    },
    {
      "cell_type": "code",
      "execution_count": 16,
      "metadata": {
        "colab": {
          "base_uri": "https://localhost:8080/"
        },
        "id": "P3fGVRf84Tij",
        "outputId": "00df0ea5-1255-43e9-9b93-6d7ee31fe448"
      },
      "outputs": [
        {
          "name": "stdout",
          "output_type": "stream",
          "text": [
            "<class 'pandas.core.series.Series'>\n"
          ]
        }
      ],
      "source": [
        "print(type(mydf.iloc[0]))"
      ]
    },
    {
      "cell_type": "code",
      "execution_count": 38,
      "metadata": {
        "colab": {
          "base_uri": "https://localhost:8080/"
        },
        "id": "H9jMxg724bVw",
        "outputId": "bb73ac4b-536a-4cdc-d82a-9568241a8680"
      },
      "outputs": [
        {
          "name": "stdout",
          "output_type": "stream",
          "text": [
            "\n",
            "Rows 0 and 2:\n",
            "    cars  passings\n",
            "0   BMW         3\n",
            "2  Ford         2\n"
          ]
        }
      ],
      "source": [
        "# Refer to multiple rows by their index\n",
        "# Rows 0 and 2\n",
        "print(\"\\nRows 0 and 2:\\n\", mydf.iloc[[0, 2]])"
      ]
    },
    {
      "cell_type": "code",
      "execution_count": 18,
      "metadata": {
        "colab": {
          "base_uri": "https://localhost:8080/"
        },
        "id": "WWBl-Uka4eUn",
        "outputId": "4dfb5cef-87da-4968-8f32-5d313747c164"
      },
      "outputs": [
        {
          "name": "stdout",
          "output_type": "stream",
          "text": [
            "\n",
            "Value at 0th row and 1st column: 3\n"
          ]
        }
      ],
      "source": [
        "# Refer to the value at the 0th row and 1st column\n",
        "print(\"\\nValue at 0th row and 1st column:\", mydf.iloc[0, 1])"
      ]
    },
    {
      "cell_type": "code",
      "execution_count": 40,
      "metadata": {
        "colab": {
          "base_uri": "https://localhost:8080/"
        },
        "id": "ika9TBRL4jkN",
        "outputId": "4202de6a-f9a4-4fa7-e803-8f19e204b861"
      },
      "outputs": [
        {
          "name": "stdout",
          "output_type": "stream",
          "text": [
            "\n",
            "First two rows and columns (sliced):\n",
            "     cars  passings\n",
            "0    BMW         3\n",
            "1  Volvo         7\n"
          ]
        }
      ],
      "source": [
        "# Slice rows and columns\n",
        "# First two rows and first two columns\n",
        "print(\"\\nFirst two rows and columns (sliced):\\n\", mydf.iloc[0:2, 0:2])"
      ]
    },
    {
      "cell_type": "code",
      "execution_count": 19,
      "metadata": {
        "colab": {
          "base_uri": "https://localhost:8080/"
        },
        "id": "5IyIjZqP4nGH",
        "outputId": "8609427c-69aa-43dc-b0eb-17016aedd123"
      },
      "outputs": [
        {
          "name": "stdout",
          "output_type": "stream",
          "text": [
            "\n",
            "Label-based indexing using loc:\n",
            "BMW\n",
            "   cars  passings\n",
            "0   BMW         3\n",
            "2  Ford         2\n"
          ]
        }
      ],
      "source": [
        "# Label-based indexing using loc example\n",
        "print(\"\\nLabel-based indexing using loc:\")\n",
        "print(mydf.loc[0, 'cars'])  # Refer to the value at the 0th row (index name) and 'cars' column\n",
        "print(mydf.loc[[0, 2]])  # Refer to multiple rows and specific columns\n"
      ]
    },
    {
      "cell_type": "code",
      "execution_count": 42,
      "metadata": {
        "colab": {
          "base_uri": "https://localhost:8080/"
        },
        "id": "WbkZyYEj4qeL",
        "outputId": "b946f1d5-7634-4c1b-84eb-ba315a5d430c"
      },
      "outputs": [
        {
          "name": "stdout",
          "output_type": "stream",
          "text": [
            "\n",
            "'cars' column:\n",
            " 0      BMW\n",
            "1    Volvo\n",
            "2     Ford\n",
            "3     Audi\n",
            "4      BMW\n",
            "5     Ford\n",
            "6    Volvo\n",
            "7     Audi\n",
            "Name: cars, dtype: object\n",
            "\n",
            "'passings' column:\n",
            " 0    3\n",
            "1    7\n",
            "2    2\n",
            "3    6\n",
            "4    5\n",
            "5    4\n",
            "6    5\n",
            "7    2\n",
            "Name: passings, dtype: int64\n"
          ]
        }
      ],
      "source": [
        "# Accessing columns directly by label\n",
        "print(\"\\n'cars' column:\\n\", mydf['cars'])\n",
        "print(\"\\n'passings' column:\\n\", mydf['passings'])"
      ]
    },
    {
      "cell_type": "code",
      "execution_count": 23,
      "metadata": {
        "colab": {
          "base_uri": "https://localhost:8080/"
        },
        "id": "G5fXzSKa4wGg",
        "outputId": "1f0daae6-9f17-446b-da4d-91ba7cf95be4"
      },
      "outputs": [
        {
          "name": "stdout",
          "output_type": "stream",
          "text": [
            "\n",
            "DataFrame with new 'owners' column:\n",
            "     cars  passings  owners\n",
            "0    BMW         3       5\n",
            "1  Volvo         7       3\n",
            "2   Ford         2       2\n",
            "3   Audi         6       4\n",
            "4    BMW         5       1\n",
            "5   Ford         4       2\n",
            "6  Volvo         5       3\n",
            "7   Audi         2       2\n"
          ]
        }
      ],
      "source": [
        "# Add a new column to the DataFrame\n",
        "mydf['owners'] = [5, 3, 2, 4, 1, 2, 3, 2]\n",
        "# mydf['add']=[11,222,33,44,55,66,77,88]\n",
        "\n",
        "mydf = mydf.drop(columns=['add'])\n",
        "print(\"\\nDataFrame with new 'owners' column:\\n\", mydf)"
      ]
    },
    {
      "cell_type": "code",
      "execution_count": 34,
      "metadata": {
        "colab": {
          "base_uri": "https://localhost:8080/"
        },
        "id": "KFySjR5h440B",
        "outputId": "5d475c84-3b8f-4433-d0b2-cf841b46ba51"
      },
      "outputs": [
        {
          "name": "stdout",
          "output_type": "stream",
          "text": [
            "\n",
            "DataFrame after dropping 'owners' column:\n",
            "      cars   passings\n",
            "0     BMW   3.000000\n",
            "1   Volvo   7.000000\n",
            "2    Ford   0.000000\n",
            "3    Audi  21.454545\n",
            "4    Audi   5.000000\n",
            "5       0   0.000000\n",
            "6   Volvo   5.000000\n",
            "7    Audi   2.000000\n",
            "8   Tesla   8.000000\n",
            "9    suzi  99.000000\n",
            "10  Tesla   8.000000\n",
            "11   suzi  99.000000\n"
          ]
        }
      ],
      "source": [
        "# Drop a column from the DataFrame\n",
        "mydf = mydf.drop(columns=['owners'])\n",
        "print(\"\\nDataFrame after dropping 'owners' column:\\n\", mydf)"
      ]
    },
    {
      "cell_type": "code",
      "execution_count": 25,
      "metadata": {
        "colab": {
          "base_uri": "https://localhost:8080/"
        },
        "id": "vrdCr6VO45Wp",
        "outputId": "b7160338-5686-42fb-876a-f9150de4233d"
      },
      "outputs": [
        {
          "name": "stdout",
          "output_type": "stream",
          "text": [
            "\n",
            "DataFrame after adding a new row:\n",
            "      cars  passings  owners\n",
            "0     BMW         3     5.0\n",
            "1   Volvo         7     3.0\n",
            "2    Ford         2     2.0\n",
            "3    Audi         6     4.0\n",
            "4     BMW         5     1.0\n",
            "5    Ford         4     2.0\n",
            "6   Volvo         5     3.0\n",
            "7    Audi         2     2.0\n",
            "8   Tesla         8     NaN\n",
            "9    suzi        99     NaN\n",
            "10  Tesla         8     NaN\n",
            "11   suzi        99     NaN\n"
          ]
        }
      ],
      "source": [
        "# Adding a new row to the DataFrame using pd.concat\n",
        "new_row = pd.DataFrame({'cars': ['Tesla'], 'passings': [8]})\n",
        "row2=pd.DataFrame({'cars': ['suzi'], 'passings': [99]})\n",
        "mydf = pd.concat([mydf, new_row], ignore_index=True)\n",
        "mydf =pd.concat([mydf,row2],ignore_index=True)\n",
        "print(\"\\nDataFrame after adding a new row:\\n\", mydf)"
      ]
    },
    {
      "cell_type": "code",
      "execution_count": 28,
      "metadata": {
        "colab": {
          "base_uri": "https://localhost:8080/"
        },
        "id": "LTdgZULU5C_X",
        "outputId": "de1146b0-ee90-4796-b4c5-fdaeb400b22b"
      },
      "outputs": [
        {
          "name": "stdout",
          "output_type": "stream",
          "text": [
            "\n",
            "DataFrame with missing value:\n",
            "      cars  passings  owners\n",
            "0     BMW       3.0     5.0\n",
            "1   Volvo       7.0     3.0\n",
            "2    Ford       NaN     2.0\n",
            "3    Audi       6.0     4.0\n",
            "4     BMW       5.0     1.0\n",
            "5    None       NaN     2.0\n",
            "6   Volvo       5.0     3.0\n",
            "7    Audi       2.0     2.0\n",
            "8   Tesla       8.0     NaN\n",
            "9    suzi      99.0     NaN\n",
            "10  Tesla       8.0     NaN\n",
            "11   suzi      99.0     NaN\n"
          ]
        }
      ],
      "source": [
        "# Introduce missing values\n",
        "mydf.loc[2, 'passings'] = None\n",
        "\n",
        "mydf.loc[5, 'passings']=None\n",
        "mydf.loc[5,'cars']=None\n",
        "print(\"\\nDataFrame with missing value:\\n\", mydf)"
      ]
    },
    {
      "cell_type": "code",
      "execution_count": 29,
      "metadata": {
        "colab": {
          "base_uri": "https://localhost:8080/"
        },
        "id": "xiGKVPO15GVo",
        "outputId": "f371718b-bb46-4e51-f439-8b2eb3270009"
      },
      "outputs": [
        {
          "name": "stdout",
          "output_type": "stream",
          "text": [
            "\n",
            "Detect missing values:\n",
            "      cars  passings  owners\n",
            "0   False     False   False\n",
            "1   False     False   False\n",
            "2   False      True   False\n",
            "3   False     False   False\n",
            "4   False     False   False\n",
            "5    True      True   False\n",
            "6   False     False   False\n",
            "7   False     False   False\n",
            "8   False     False    True\n",
            "9   False     False    True\n",
            "10  False     False    True\n",
            "11  False     False    True\n",
            "\n",
            "Count of missing values:\n",
            " cars        1\n",
            "passings    2\n",
            "owners      4\n",
            "dtype: int64\n"
          ]
        }
      ],
      "source": [
        "# Detect missing values\n",
        "print(\"\\nDetect missing values:\\n\", mydf.isnull())\n",
        "print(\"\\nCount of missing values:\\n\", mydf.isnull().sum())"
      ]
    },
    {
      "cell_type": "code",
      "execution_count": 30,
      "metadata": {
        "colab": {
          "base_uri": "https://localhost:8080/"
        },
        "id": "PcXetRWZ5G-G",
        "outputId": "38024dd6-ba8c-496e-ebca-6a3a9aedd550"
      },
      "outputs": [
        {
          "name": "stdout",
          "output_type": "stream",
          "text": [
            "\n",
            "DataFrame after dropping rows with missing values:\n",
            "     cars  passings  owners\n",
            "0    BMW       3.0     5.0\n",
            "1  Volvo       7.0     3.0\n",
            "3   Audi       6.0     4.0\n",
            "4    BMW       5.0     1.0\n",
            "6  Volvo       5.0     3.0\n",
            "7   Audi       2.0     2.0\n"
          ]
        }
      ],
      "source": [
        "# Drop rows with missing values\n",
        "mydf_dropped = mydf.dropna()\n",
        "print(\"\\nDataFrame after dropping rows with missing values:\\n\", mydf_dropped)"
      ]
    },
    {
      "cell_type": "code",
      "execution_count": 31,
      "metadata": {
        "colab": {
          "base_uri": "https://localhost:8080/"
        },
        "id": "B4LdnL4D5f5t",
        "outputId": "1f876df0-1bb6-4c0e-c1a1-8f725e9a7770"
      },
      "outputs": [
        {
          "name": "stdout",
          "output_type": "stream",
          "text": [
            "\n",
            "DataFrame before filling missing values with 0:\n",
            "      cars  passings  owners\n",
            "0     BMW       3.0     5.0\n",
            "1   Volvo       7.0     3.0\n",
            "2    Ford       NaN     2.0\n",
            "3    Audi       NaN     4.0\n",
            "4     BMW       5.0     1.0\n",
            "5    None       NaN     2.0\n",
            "6   Volvo       5.0     3.0\n",
            "7    Audi       2.0     2.0\n",
            "8   Tesla       8.0     NaN\n",
            "9    suzi      99.0     NaN\n",
            "10  Tesla       8.0     NaN\n",
            "11   suzi      99.0     NaN\n",
            "\n",
            "New DataFrame after filling missing values with 0:\n",
            "      cars  passings  owners\n",
            "0     BMW       3.0     5.0\n",
            "1   Volvo       7.0     3.0\n",
            "2    Ford       0.0     2.0\n",
            "3    Audi       0.0     4.0\n",
            "4     BMW       5.0     1.0\n",
            "5       0       0.0     2.0\n",
            "6   Volvo       5.0     3.0\n",
            "7    Audi       2.0     2.0\n",
            "8   Tesla       8.0     0.0\n",
            "9    suzi      99.0     0.0\n",
            "10  Tesla       8.0     0.0\n",
            "11   suzi      99.0     0.0\n"
          ]
        }
      ],
      "source": [
        "# Fill missing values with a specific value\n",
        "# Introduce another missing values\n",
        "mydf.loc[3, 'passings'] = None\n",
        "print(\"\\nDataFrame before filling missing values with 0:\\n\", mydf)\n",
        "\n",
        "mydf_filled = mydf.fillna(0)\n",
        "print(\"\\nNew DataFrame after filling missing values with 0:\\n\", mydf_filled)"
      ]
    },
    {
      "cell_type": "code",
      "execution_count": 32,
      "metadata": {
        "colab": {
          "base_uri": "https://localhost:8080/"
        },
        "id": "KNiLHXxx5lv2",
        "outputId": "02286d34-2b5c-4cb4-e2ec-63f33b4b7b1e"
      },
      "outputs": [
        {
          "name": "stdout",
          "output_type": "stream",
          "text": [
            "\n",
            "DataFrame before filling missing values with 0:\n",
            "      cars  passings  owners\n",
            "0     BMW       3.0     5.0\n",
            "1   Volvo       7.0     3.0\n",
            "2    Ford       NaN     2.0\n",
            "3    Audi       NaN     4.0\n",
            "4     BMW       5.0     1.0\n",
            "5    None       NaN     2.0\n",
            "6   Volvo       5.0     3.0\n",
            "7    Audi       2.0     2.0\n",
            "8   Tesla       8.0     NaN\n",
            "9    suzi      99.0     NaN\n",
            "10  Tesla       8.0     NaN\n",
            "11   suzi      99.0     NaN\n",
            "\n",
            "DataFrame after filling missing values with 0:\n",
            "      cars  passings  owners\n",
            "0     BMW       3.0     5.0\n",
            "1   Volvo       7.0     3.0\n",
            "2    Ford       0.0     2.0\n",
            "3    Audi       0.0     4.0\n",
            "4     BMW       5.0     1.0\n",
            "5       0       0.0     2.0\n",
            "6   Volvo       5.0     3.0\n",
            "7    Audi       2.0     2.0\n",
            "8   Tesla       8.0     0.0\n",
            "9    suzi      99.0     0.0\n",
            "10  Tesla       8.0     0.0\n",
            "11   suzi      99.0     0.0\n"
          ]
        }
      ],
      "source": [
        "#Fill missing values inplace\n",
        "print(\"\\nDataFrame before filling missing values with 0:\\n\", mydf)\n",
        "mydf.fillna(0, inplace = True)\n",
        "print(\"\\nDataFrame after filling missing values with 0:\\n\", mydf)"
      ]
    },
    {
      "cell_type": "code",
      "execution_count": 36,
      "metadata": {
        "colab": {
          "base_uri": "https://localhost:8080/"
        },
        "id": "yCwmgqAQ6Quu",
        "outputId": "bc3af2b8-effe-4b95-cddb-08c3e646b11c"
      },
      "outputs": [
        {
          "name": "stdout",
          "output_type": "stream",
          "text": [
            "\n",
            "DataFrame before filling missing values with 0:\n",
            "      cars  passings\n",
            "0     BMW       3.0\n",
            "1   Volvo       7.0\n",
            "2    Ford       0.0\n",
            "3    Audi       NaN\n",
            "4    None       5.0\n",
            "5       0       0.0\n",
            "6   Volvo       5.0\n",
            "7    Audi       2.0\n",
            "8   Tesla       8.0\n",
            "9    suzi      99.0\n",
            "10  Tesla       8.0\n",
            "11   suzi      99.0\n",
            "\n",
            "DataFrame after filling missing values with mean:\n",
            "      cars  passings\n",
            "0     BMW       3.0\n",
            "1   Volvo       7.0\n",
            "2    Ford       0.0\n",
            "3    Audi       NaN\n",
            "4    None       5.0\n",
            "5       0       0.0\n",
            "6   Volvo       5.0\n",
            "7    Audi       2.0\n",
            "8   Tesla       8.0\n",
            "9    suzi      99.0\n",
            "10  Tesla       8.0\n",
            "11   suzi      99.0\n",
            "\n",
            "DataFrame after filling missing values with mode:\n",
            "      cars   passings\n",
            "0     BMW   3.000000\n",
            "1   Volvo   7.000000\n",
            "2    Ford   0.000000\n",
            "3    Audi  21.454545\n",
            "4    Audi   5.000000\n",
            "5       0   0.000000\n",
            "6   Volvo   5.000000\n",
            "7    Audi   2.000000\n",
            "8   Tesla   8.000000\n",
            "9    suzi  99.000000\n",
            "10  Tesla   8.000000\n",
            "11   suzi  99.000000\n"
          ]
        },
        {
          "name": "stderr",
          "output_type": "stream",
          "text": [
            "C:\\Users\\SHIVA KUMAR\\AppData\\Local\\Temp\\ipykernel_8344\\1030972901.py:9: FutureWarning: A value is trying to be set on a copy of a DataFrame or Series through chained assignment using an inplace method.\n",
            "The behavior will change in pandas 3.0. This inplace method will never work because the intermediate object on which we are setting values always behaves as a copy.\n",
            "\n",
            "For example, when doing 'df[col].method(value, inplace=True)', try using 'df.method({col: value}, inplace=True)' or df[col] = df[col].method(value) instead, to perform the operation inplace on the original object.\n",
            "\n",
            "\n",
            "  mydf['passings'].fillna(mydf['passings'].mean(), inplace = True)\n",
            "C:\\Users\\SHIVA KUMAR\\AppData\\Local\\Temp\\ipykernel_8344\\1030972901.py:11: FutureWarning: A value is trying to be set on a copy of a DataFrame or Series through chained assignment using an inplace method.\n",
            "The behavior will change in pandas 3.0. This inplace method will never work because the intermediate object on which we are setting values always behaves as a copy.\n",
            "\n",
            "For example, when doing 'df[col].method(value, inplace=True)', try using 'df.method({col: value}, inplace=True)' or df[col] = df[col].method(value) instead, to perform the operation inplace on the original object.\n",
            "\n",
            "\n",
            "  mydf['cars'].fillna(mydf['cars'].mode()[0], inplace = True)\n"
          ]
        }
      ],
      "source": [
        "# Fill missing values with a mean/median/mode\n",
        "# Introduce another missing values\n",
        "mydf.loc[3, 'passings'] = None\n",
        "mydf.loc[4, 'cars'] = None\n",
        "print(\"\\nDataFrame before filling missing values with 0:\\n\", mydf)\n",
        "\n",
        "#Fill passings columns by mean\n",
        "print(\"\\nDataFrame after filling missing values with mean:\\n\", mydf)\n",
        "mydf['passings'].fillna(mydf['passings'].mean(), inplace = True)\n",
        "#Fill cars column by mode\n",
        "mydf['cars'].fillna(mydf['cars'].mode()[0], inplace = True)\n",
        "print(\"\\nDataFrame after filling missing values with mode:\\n\", mydf)"
      ]
    },
    {
      "cell_type": "code",
      "execution_count": 49,
      "metadata": {
        "colab": {
          "base_uri": "https://localhost:8080/"
        },
        "id": "0CJk6AGf7ugv",
        "outputId": "7ea5e721-4169-4d4f-ee55-39674da8357c"
      },
      "outputs": [
        {
          "name": "stdout",
          "output_type": "stream",
          "text": [
            "Mean passings grouped by car brand:\n",
            " cars\n",
            "0         0.000000\n",
            "Audi      9.484848\n",
            "BMW       3.000000\n",
            "Ford      0.000000\n",
            "Tesla     8.000000\n",
            "Volvo     6.000000\n",
            "suzi     99.000000\n",
            "Name: passings, dtype: float64\n",
            "totl counts: cars:   cars\n",
            "0        1\n",
            "Audi     3\n",
            "BMW      1\n",
            "Ford     1\n",
            "Tesla    2\n",
            "Volvo    2\n",
            "suzi     2\n",
            "Name: passings, dtype: int64\n"
          ]
        }
      ],
      "source": [
        "# Pandas dataframe.groupby() function is used to split the data into groups based on some criteria.\n",
        "# Pandas objects can be split on any of their axes. The abstract definition of grouping is to provide a mapping of labels to group names.\n",
        "# Group by 'cars' column and calculate the mean of 'passings'\n",
        "grouped = mydf.groupby('cars')\n",
        "\n",
        "# Calculate mean of 'passings' for each group\n",
        "mean_passings = grouped['passings'].mean()\n",
        "\n",
        "print(\"Mean passings grouped by car brand:\\n\", mean_passings)\n",
        "\n",
        "# print(mydf['cars'])\n",
        "\n",
        "\n",
        "\n",
        "\n",
        "\n",
        "\n",
        "grouped =mydf.groupby('cars')\n",
        "\n",
        "total_passing=grouped['passings'].count()\n",
        "print(\"totl counts: cars:  \",total_passing)\n"
      ]
    },
    {
      "cell_type": "code",
      "execution_count": 51,
      "metadata": {
        "colab": {
          "base_uri": "https://localhost:8080/"
        },
        "id": "dV-gbS8D82Z8",
        "outputId": "2d00907f-30db-4730-cb43-9fa6b30bf8b8"
      },
      "outputs": [
        {
          "name": "stdout",
          "output_type": "stream",
          "text": [
            "\n",
            "Group: 0\n",
            "  cars  passings\n",
            "5    0       0.0\n",
            "\n",
            "Group: Audi\n",
            "   cars   passings\n",
            "3  Audi  21.454545\n",
            "4  Audi   5.000000\n",
            "7  Audi   2.000000\n",
            "\n",
            "Group: BMW\n",
            "  cars  passings\n",
            "0  BMW       3.0\n",
            "\n",
            "Group: Ford\n",
            "   cars  passings\n",
            "2  Ford       0.0\n",
            "\n",
            "Group: Tesla\n",
            "     cars  passings\n",
            "8   Tesla       8.0\n",
            "10  Tesla       8.0\n",
            "\n",
            "Group: Volvo\n",
            "    cars  passings\n",
            "1  Volvo       7.0\n",
            "6  Volvo       5.0\n",
            "\n",
            "Group: suzi\n",
            "    cars  passings\n",
            "9   suzi      99.0\n",
            "11  suzi      99.0\n"
          ]
        }
      ],
      "source": [
        "# Iterate over each group\n",
        "for name, group in grouped:\n",
        "    print(f\"\\nGroup: {name}\")\n",
        "    print(group)\n",
        "    \n",
        "    \n",
        "    "
      ]
    },
    {
      "cell_type": "code",
      "execution_count": 3,
      "metadata": {},
      "outputs": [
        {
          "name": "stdout",
          "output_type": "stream",
          "text": [
            "Group: Alice\n",
            "    Name  Age\n",
            "0  Alice   25\n",
            "3  Alice   28\n",
            "Group: Bob\n",
            "  Name  Age\n",
            "1  Bob   30\n",
            "4  Bob   32\n",
            "Group: Charlie\n",
            "      Name  Age\n",
            "2  Charlie   35\n"
          ]
        }
      ],
      "source": [
        "import pandas as pd\n",
        "\n",
        "# Ensure your data is in a DataFrame\n",
        "data = {'Name': ['Alice', 'Bob', 'Charlie', 'Alice', 'Bob'],\n",
        "        'Age': [25, 30, 35, 28, 32]}\n",
        "df = pd.DataFrame(data)\n",
        "\n",
        "# Correctly group the DataFrame\n",
        "grouped = df.groupby('Name')\n",
        "\n",
        "# Iterate over each group\n",
        "for name, group in grouped:\n",
        "    print(f\"Group: {name}\")\n",
        "    print(group)\n"
      ]
    },
    {
      "cell_type": "code",
      "execution_count": 52,
      "metadata": {
        "colab": {
          "base_uri": "https://localhost:8080/"
        },
        "id": "W7wBbwDm9HBQ",
        "outputId": "6db01912-456f-4800-d23f-6d930cc18994"
      },
      "outputs": [
        {
          "name": "stdout",
          "output_type": "stream",
          "text": [
            "\n",
            "Mean passings grouped by car brand:\n",
            " cars\n",
            "0         0.000000\n",
            "Audi      9.484848\n",
            "BMW       3.000000\n",
            "Ford      0.000000\n",
            "Tesla     8.000000\n",
            "Volvo     6.000000\n",
            "suzi     99.000000\n",
            "Name: passings, dtype: float64\n"
          ]
        }
      ],
      "source": [
        "# Group by 'cars' column and calculate the mean of 'passings'\n",
        "grouped = mydf.groupby('cars')['passings'].mean()\n",
        "print(\"\\nMean passings grouped by car brand:\\n\", grouped)"
      ]
    },
    {
      "cell_type": "code",
      "execution_count": 63,
      "metadata": {
        "colab": {
          "base_uri": "https://localhost:8080/"
        },
        "id": "dWG5uW2x9M-c",
        "outputId": "abb7b53e-5d4b-4b56-8f04-50a073a98549"
      },
      "outputs": [
        {
          "name": "stdout",
          "output_type": "stream",
          "text": [
            "\n",
            "Count of each car brand:\n",
            " cars\n",
            "Audi     3\n",
            "Tesla    2\n",
            "Volvo    2\n",
            "suzi     2\n",
            "BMW      1\n",
            "Ford     1\n",
            "0        1\n",
            "Name: count, dtype: int64\n"
          ]
        }
      ],
      "source": [
        "# Count occurrences of each car brand\n",
        "car_counts = mydf['cars'].value_counts()\n",
        "print(\"\\nCount of each car brand:\\n\", car_counts)"
      ]
    },
    {
      "cell_type": "code",
      "execution_count": 73,
      "metadata": {
        "colab": {
          "base_uri": "https://localhost:8080/",
          "height": 472
        },
        "id": "bl03u82X9Rty",
        "outputId": "810a775a-8526-4e45-e741-2551b82a5f97"
      },
      "outputs": [
        {
          "data": {
            "image/png": "[encoded data removed]",
            "text/plain": [
              "<Figure size 640x480 with 1 Axes>"
            ]
          },
          "metadata": {},
          "output_type": "display_data"
        }
      ],
      "source": [
        "# Basic plotting with matplotlib\n",
        "\n",
        "import matplotlib.pyplot as plt\n",
        "mydata = {\n",
        "  'cars': ['Tesla', 'Ford', 'Tesla', 'Toyota', 'Ford', 'Tesla', 'Ford', 'Toyota', 'Tesla', 'Ford'],\n",
        "  'passings': [5, 7, 6, 8, 9, 7, 8, 6, 5, 7]\n",
        "}\n",
        "mydf =pd.DataFrame(mydata)\n",
        "car_counts = mydf['cars'].value_counts()\n",
        "plt.bar(car_counts.index, car_counts.values)\n",
        "plt.xlabel('Cars')\n",
        "plt.ylabel('Passings')\n",
        "plt.title('Passings by Car Brand')\n",
        "plt.show()\n",
        "\n",
        "\n",
        "\n"
      ]
    },
    {
      "cell_type": "code",
      "execution_count": 74,
      "metadata": {
        "colab": {
          "base_uri": "https://localhost:8080/",
          "height": 495
        },
        "id": "XOTD14rN-Fdv",
        "outputId": "e9e4f29b-6c47-48be-833a-123a95fc8fb8"
      },
      "outputs": [
        {
          "data": {
            "image/png": "[encoded data removed]",
            "text/plain": [
              "<Figure size 640x480 with 1 Axes>"
            ]
          },
          "metadata": {},
          "output_type": "display_data"
        },
        {
          "data": {
            "image/png": "[encoded data removed]",
            "text/plain": [
              "<Figure size 640x480 with 1 Axes>"
            ]
          },
          "metadata": {},
          "output_type": "display_data"
        },
        {
          "data": {
            "image/png": "[encoded data removed]",
            "text/plain": [
              "<Figure size 640x480 with 1 Axes>"
            ]
          },
          "metadata": {},
          "output_type": "display_data"
        }
      ],
      "source": [
        "import pandas as pd\n",
        "import matplotlib.pyplot as plt\n",
        "# Bar plot for car brand counts using pandas inbuilt function\n",
        "car_counts.plot(kind='bar')\n",
        "plt.xlabel('Cars')\n",
        "plt.ylabel('Counts')\n",
        "plt.title('Counts of Different Car Brands')\n",
        "plt.show()\n",
        "\n",
        "\n",
        "car_counts.plot(kind='pie')\n",
        "plt.xlabel('Cars')\n",
        "plt.ylabel('Counts')\n",
        "plt.title('Counts of Different Car Brands')\n",
        "plt.show()\n",
        "\n"
      ]
    },
    {
      "cell_type": "code",
      "execution_count": 75,
      "metadata": {
        "colab": {
          "base_uri": "https://localhost:8080/",
          "height": 495
        },
        "id": "-6uLTRQd9556",
        "outputId": "9c6397dc-86b9-49df-b81f-77456aa4e314"
      },
      "outputs": [
        {
          "data": {
            "image/png": "[encoded data removed]",
            "text/plain": [
              "<Figure size 640x480 with 1 Axes>"
            ]
          },
          "metadata": {},
          "output_type": "display_data"
        }
      ],
      "source": [
        "\n",
        "# Plot using pandas inbuilt functions\n",
        "# Bar plot for mean passings grouped by car brand\n",
        "grouped.plot(kind='bar')\n",
        "plt.xlabel('Cars')\n",
        "plt.ylabel('Average Passings')\n",
        "plt.title('Average Passings of Different Car Brands')\n",
        "plt.show()"
      ]
    },
    {
      "cell_type": "code",
      "execution_count": 76,
      "metadata": {
        "colab": {
          "base_uri": "https://localhost:8080/",
          "height": 428
        },
        "id": "XdMgccJ_-Enm",
        "outputId": "836f3228-8826-4e6a-92c7-38058586a9f9"
      },
      "outputs": [
        {
          "data": {
            "image/png": "[encoded data removed]",
            "text/plain": [
              "<Figure size 640x480 with 1 Axes>"
            ]
          },
          "metadata": {},
          "output_type": "display_data"
        }
      ],
      "source": [
        "# Pie chart plot using matplotlib\n",
        "car_counts = mydf['cars'].value_counts()\n",
        "plt.pie(car_counts.values, labels=car_counts.index, autopct='%1.1f%%')\n",
        "plt.title('Passings by Car Brand')\n",
        "plt.show()"
      ]
    },
    {
      "cell_type": "code",
      "execution_count": 68,
      "metadata": {
        "colab": {
          "base_uri": "https://localhost:8080/",
          "height": 428
        },
        "id": "ZoYWeHqp-k8N",
        "outputId": "b2c89a4a-287a-48b4-8472-263025b45e3d"
      },
      "outputs": [
        {
          "data": {
            "image/png": "[encoded data removed]",
            "text/plain": [
              "<Figure size 640x480 with 1 Axes>"
            ]
          },
          "metadata": {},
          "output_type": "display_data"
        }
      ],
      "source": [
        "# Pie chart plot using pandas inbult function\n",
        "car_counts.plot(kind='pie')\n",
        "plt.title('Passings by Car Brand')\n",
        "plt.show()"
      ]
    },
    {
      "cell_type": "code",
      "execution_count": 81,
      "metadata": {
        "colab": {
          "base_uri": "https://localhost:8080/",
          "height": 472
        },
        "id": "mF_vrbmU-vRi",
        "outputId": "f9030d01-c90d-4a53-d6fb-afe14db899ea"
      },
      "outputs": [
        {
          "data": {
            "image/png": "[encoded data removed]",
            "text/plain": [
              "<Figure size 640x480 with 1 Axes>"
            ]
          },
          "metadata": {},
          "output_type": "display_data"
        }
      ],
      "source": [
        "# Histogram plot using matplotlib\n",
        "plt.hist(mydf['passings'], bins=10)\n",
        "plt.xlabel('Passings')\n",
        "plt.ylabel('Frequency')\n",
        "plt.title('Passings Distribution')\n",
        "plt.show()"
      ]
    },
    {
      "cell_type": "code",
      "execution_count": 84,
      "metadata": {
        "colab": {
          "base_uri": "https://localhost:8080/",
          "height": 472
        },
        "id": "O1QKFLij-_jk",
        "outputId": "faf92945-0e0c-4f39-d2d3-7e4fd9e41061"
      },
      "outputs": [
        {
          "data": {
            "image/png": "[encoded data removed]",
            "text/plain": [
              "<Figure size 640x480 with 1 Axes>"
            ]
          },
          "metadata": {},
          "output_type": "display_data"
        }
      ],
      "source": [
        "#Histogram plot using pandas inbuilt function\n",
        "mydf['passings'].plot(kind='hist', bins=10)\n",
        "plt.xlabel('Passings')\n",
        "plt.ylabel('Frequency')\n",
        "plt.title('Passings Distribution')\n",
        "plt.show()"
      ]
    },
    {
      "cell_type": "code",
      "execution_count": 75,
      "metadata": {
        "colab": {
          "base_uri": "https://localhost:8080/",
          "height": 680
        },
        "id": "OCO7U5uD_Ivq",
        "outputId": "dd4f198a-2f9a-4837-d647-4c40ae62bd22"
      },
      "outputs": [
        {
          "name": "stdout",
          "output_type": "stream",
          "text": [
            "\n",
            "DataFrame with new column 'passings_squared':\n",
            "     cars  passings  passings_squared\n",
            "0    BMW      3.00            9.0000\n",
            "1  Volvo      7.00           49.0000\n",
            "2   Ford      0.00            0.0000\n",
            "3   Audi      4.25           18.0625\n",
            "4   Audi      5.00           25.0000\n",
            "5   Ford      4.00           16.0000\n",
            "6  Volvo      5.00           25.0000\n",
            "7   Audi      2.00            4.0000\n",
            "8  Tesla      8.00           64.0000\n"
          ]
        },
        {
          "data": {
            "image/png": "[encoded data removed]",
            "text/plain": [
              "<Figure size 640x480 with 1 Axes>"
            ]
          },
          "metadata": {},
          "output_type": "display_data"
        }
      ],
      "source": [
        "#Add a new column and plot scatter plot\n",
        "mydf['passings_squared'] = mydf['passings'] ** 2\n",
        "print(\"\\nDataFrame with new column 'passings_squared':\\n\", mydf)\n",
        "#Plot\n",
        "plt.scatter(mydf['passings'], mydf['passings_squared'])\n",
        "plt.xlabel('Passings')\n",
        "plt.ylabel('Passings Squared')\n",
        "plt.title('Passings vs Passings Squared')\n",
        "plt.show()"
      ]
    },
    {
      "cell_type": "code",
      "execution_count": 80,
      "metadata": {
        "colab": {
          "base_uri": "https://localhost:8080/"
        },
        "id": "GZvUzEyH-4Vi",
        "outputId": "05003e05-2a93-4baa-89ab-617064cc6171"
      },
      "outputs": [
        {
          "name": "stdout",
          "output_type": "stream",
          "text": [
            "\n",
            "Mean and median of passing column: 4.25 4.25\n",
            "\n",
            "Mode of cars column: 0    Audi\n",
            "Name: cars, dtype: object\n",
            "\n",
            "Statistical summary of DataFrame:\n",
            "        passings  passings_squared\n",
            "count  9.000000          9.000000\n",
            "mean   4.250000         23.340278\n",
            "std    2.436699         20.986117\n",
            "min    0.000000          0.000000\n",
            "25%    3.000000          9.000000\n",
            "50%    4.250000         18.062500\n",
            "75%    5.000000         25.000000\n",
            "max    8.000000         64.000000\n"
          ]
        }
      ],
      "source": [
        "# Additional Examples\n",
        "\n",
        "#Mean and median of passing column\n",
        "print(\"\\nMean and median of passing column:\", mydf['passings'].mean(), mydf['passings'].median())\n",
        "#Mode of cars column\n",
        "print(\"\\nMode of cars column:\", mydf['cars'].mode())\n",
        "\n",
        "# Describe the DataFrame (statistical summary)\n",
        "print(\"\\nStatistical summary of DataFrame:\\n\", mydf.describe())"
      ]
    },
    {
      "cell_type": "code",
      "execution_count": 82,
      "metadata": {
        "colab": {
          "base_uri": "https://localhost:8080/"
        },
        "id": "wSaZB2ky_hLN",
        "outputId": "598d8430-46e2-40d5-d1b0-833cb8ed405d"
      },
      "outputs": [
        {
          "name": "stdout",
          "output_type": "stream",
          "text": [
            "\n",
            "Rows where passings are greater than 3:\n",
            "     cars  passings  passings_squared\n",
            "1  Volvo      7.00           49.0000\n",
            "3   Audi      4.25           18.0625\n",
            "4   Audi      5.00           25.0000\n",
            "5   Ford      4.00           16.0000\n",
            "6  Volvo      5.00           25.0000\n",
            "8  Tesla      8.00           64.0000\n"
          ]
        }
      ],
      "source": [
        "# Filter rows where passings are greater than 3\n",
        "filtered_df = mydf[mydf['passings'] > 3]\n",
        "print(\"\\nRows where passings are greater than 3:\\n\", filtered_df)"
      ]
    },
    {
      "cell_type": "markdown",
      "metadata": {
        "id": "Vulz3JMr_iD1"
      },
      "source": [
        "#Data Analysis"
      ]
    },
    {
      "cell_type": "code",
      "execution_count": 2,
      "metadata": {
        "id": "koEmE9Fu_9kR"
      },
      "outputs": [],
      "source": [
        "import pandas as pd\n",
        "import matplotlib.pyplot as plt"
      ]
    },
    {
      "cell_type": "code",
      "execution_count": 6,
      "metadata": {
        "id": "hMwjift9ACkA"
      },
      "outputs": [],
      "source": [
        "# Load existing dataset\n",
        "url = \"https://raw.githubusercontent.com/datasciencedojo/datasets/master/titanic.csv\"\n",
        "# Read from URL\n",
        "# titanic_df = pd.read_csv(url)\n",
        "\n",
        "# Read from file\n",
        "titanic_df = pd.read_csv('titanic.csv')\n",
        "\n",
        "# Read excel files\n",
        "# pd.read_excel('titanic.xlsx')"
      ]
    },
    {
      "cell_type": "code",
      "execution_count": 7,
      "metadata": {
        "colab": {
          "base_uri": "https://localhost:8080/"
        },
        "id": "MOJk3CNRAVeE",
        "outputId": "073d0d6d-4737-4b04-e29d-f1e7bdbe3335"
      },
      "outputs": [
        {
          "name": "stdout",
          "output_type": "stream",
          "text": [
            "\n",
            "Number of rows and columns: (891, 12)\n"
          ]
        }
      ],
      "source": [
        "# Number of rows and columns\n",
        "print(\"\\nNumber of rows and columns:\", titanic_df.shape)"
      ]
    },
    {
      "cell_type": "code",
      "execution_count": 8,
      "metadata": {
        "colab": {
          "base_uri": "https://localhost:8080/"
        },
        "id": "aBY3R99eAZNq",
        "outputId": "c853166a-a687-4d2f-c5ea-ace641f496d6"
      },
      "outputs": [
        {
          "name": "stdout",
          "output_type": "stream",
          "text": [
            "\n",
            "Column names: Index(['PassengerId', 'Survived', 'Pclass', 'Name', 'Sex', 'Age', 'SibSp',\n",
            "       'Parch', 'Ticket', 'Fare', 'Cabin', 'Embarked'],\n",
            "      dtype='object')\n"
          ]
        }
      ],
      "source": [
        "# Column names\n",
        "print(\"\\nColumn names:\", titanic_df.columns)"
      ]
    },
    {
      "cell_type": "code",
      "execution_count": 5,
      "metadata": {
        "colab": {
          "base_uri": "https://localhost:8080/",
          "height": 241
        },
        "id": "GCYJB2rrAEa_",
        "outputId": "0b8bc702-5f22-4466-aa2a-b7e4041b7486"
      },
      "outputs": [
        {
          "name": "stdout",
          "output_type": "stream",
          "text": [
            "Top 5 rows:\n",
            "\n"
          ]
        },
        {
          "ename": "NameError",
          "evalue": "name 'titanic_df' is not defined",
          "output_type": "error",
          "traceback": [
            "\u001b[1;31m---------------------------------------------------------------------------\u001b[0m",
            "\u001b[1;31mNameError\u001b[0m                                 Traceback (most recent call last)",
            "Cell \u001b[1;32mIn[5], line 3\u001b[0m\n\u001b[0;32m      1\u001b[0m \u001b[38;5;66;03m# Top 5 rows\u001b[39;00m\n\u001b[0;32m      2\u001b[0m \u001b[38;5;28mprint\u001b[39m(\u001b[38;5;124m\"\u001b[39m\u001b[38;5;124mTop 5 rows:\u001b[39m\u001b[38;5;130;01m\\n\u001b[39;00m\u001b[38;5;124m\"\u001b[39m)\n\u001b[1;32m----> 3\u001b[0m \u001b[43mtitanic_df\u001b[49m\u001b[38;5;241m.\u001b[39mhead(\u001b[38;5;241m5\u001b[39m)\u001b[38;5;241m.\u001b[39mto_string()\n",
            "\u001b[1;31mNameError\u001b[0m: name 'titanic_df' is not defined"
          ]
        }
      ],
      "source": [
        "# Top 5 rows\n",
        "print(\"Top 5 rows:\\n\")\n",
        "titanic_df.head(5).to_string()"
      ]
    },
    {
      "cell_type": "code",
      "execution_count": 88,
      "metadata": {
        "colab": {
          "base_uri": "https://localhost:8080/",
          "height": 258
        },
        "id": "7V8TQ161AOcu",
        "outputId": "5c12d784-3655-4576-8acb-90c1bfb78789"
      },
      "outputs": [
        {
          "name": "stdout",
          "output_type": "stream",
          "text": [
            "\n",
            "Bottom 5 rows:\n",
            "\n"
          ]
        },
        {
          "data": {
            "application/vnd.google.colaboratory.intrinsic+json": {
              "summary": "{\n  \"name\": \"titanic_df\",\n  \"rows\": 5,\n  \"fields\": [\n    {\n      \"column\": \"PassengerId\",\n      \"properties\": {\n        \"dtype\": \"number\",\n        \"std\": 1,\n        \"min\": 887,\n        \"max\": 891,\n        \"num_unique_values\": 5,\n        \"samples\": [\n          888,\n          891,\n          889\n        ],\n        \"semantic_type\": \"\",\n        \"description\": \"\"\n      }\n    },\n    {\n      \"column\": \"Survived\",\n      \"properties\": {\n        \"dtype\": \"number\",\n        \"std\": 0,\n        \"min\": 0,\n        \"max\": 1,\n        \"num_unique_values\": 2,\n        \"samples\": [\n          1,\n          0\n        ],\n        \"semantic_type\": \"\",\n        \"description\": \"\"\n      }\n    },\n    {\n      \"column\": \"Pclass\",\n      \"properties\": {\n        \"dtype\": \"number\",\n        \"std\": 1,\n        \"min\": 1,\n        \"max\": 3,\n        \"num_unique_values\": 3,\n        \"samples\": [\n          2,\n          1\n        ],\n        \"semantic_type\": \"\",\n        \"description\": \"\"\n      }\n    },\n    {\n      \"column\": \"Name\",\n      \"properties\": {\n        \"dtype\": \"string\",\n        \"num_unique_values\": 5,\n        \"samples\": [\n          \"Graham, Miss. Margaret Edith\",\n          \"Dooley, Mr. Patrick\"\n        ],\n        \"semantic_type\": \"\",\n        \"description\": \"\"\n      }\n    },\n    {\n      \"column\": \"Sex\",\n      \"properties\": {\n        \"dtype\": \"category\",\n        \"num_unique_values\": 2,\n        \"samples\": [\n          \"female\",\n          \"male\"\n        ],\n        \"semantic_type\": \"\",\n        \"description\": \"\"\n      }\n    },\n    {\n      \"column\": \"Age\",\n      \"properties\": {\n        \"dtype\": \"number\",\n        \"std\": 5.354126134736337,\n        \"min\": 19.0,\n        \"max\": 32.0,\n        \"num_unique_values\": 4,\n        \"samples\": [\n          19.0,\n          32.0\n        ],\n        \"semantic_type\": \"\",\n        \"description\": \"\"\n      }\n    },\n    {\n      \"column\": \"SibSp\",\n      \"properties\": {\n        \"dtype\": \"number\",\n        \"std\": 0,\n        \"min\": 0,\n        \"max\": 1,\n        \"num_unique_values\": 2,\n        \"samples\": [\n          1,\n          0\n        ],\n        \"semantic_type\": \"\",\n        \"description\": \"\"\n      }\n    },\n    {\n      \"column\": \"Parch\",\n      \"properties\": {\n        \"dtype\": \"number\",\n        \"std\": 0,\n        \"min\": 0,\n        \"max\": 2,\n        \"num_unique_values\": 2,\n        \"samples\": [\n          2,\n          0\n        ],\n        \"semantic_type\": \"\",\n        \"description\": \"\"\n      }\n    },\n    {\n      \"column\": \"Ticket\",\n      \"properties\": {\n        \"dtype\": \"string\",\n        \"num_unique_values\": 5,\n        \"samples\": [\n          \"112053\",\n          \"370376\"\n        ],\n        \"semantic_type\": \"\",\n        \"description\": \"\"\n      }\n    },\n    {\n      \"column\": \"Fare\",\n      \"properties\": {\n        \"dtype\": \"number\",\n        \"std\": 10.09253436952285,\n        \"min\": 7.75,\n        \"max\": 30.0,\n        \"num_unique_values\": 4,\n        \"samples\": [\n          30.0,\n          7.75\n        ],\n        \"semantic_type\": \"\",\n        \"description\": \"\"\n      }\n    },\n    {\n      \"column\": \"Cabin\",\n      \"properties\": {\n        \"dtype\": \"category\",\n        \"num_unique_values\": 2,\n        \"samples\": [\n          \"C148\",\n          \"B42\"\n        ],\n        \"semantic_type\": \"\",\n        \"description\": \"\"\n      }\n    },\n    {\n      \"column\": \"Embarked\",\n      \"properties\": {\n        \"dtype\": \"string\",\n        \"num_unique_values\": 3,\n        \"samples\": [\n          \"S\",\n          \"C\"\n        ],\n        \"semantic_type\": \"\",\n        \"description\": \"\"\n      }\n    }\n  ]\n}",
              "type": "dataframe"
            },
            "text/html": [
              "\n",
              "  <div id=\"df-5f772a77-af5b-438e-9962-f565fb1f5040\" class=\"colab-df-container\">\n",
              "    <div>\n",
              "<style scoped>\n",
              "    .dataframe tbody tr th:only-of-type {\n",
              "        vertical-align: middle;\n",
              "    }\n",
              "\n",
              "    .dataframe tbody tr th {\n",
              "        vertical-align: top;\n",
              "    }\n",
              "\n",
              "    .dataframe thead th {\n",
              "        text-align: right;\n",
              "    }\n",
              "</style>\n",
              "<table border=\"1\" class=\"dataframe\">\n",
              "  <thead>\n",
              "    <tr style=\"text-align: right;\">\n",
              "      <th></th>\n",
              "      <th>PassengerId</th>\n",
              "      <th>Survived</th>\n",
              "      <th>Pclass</th>\n",
              "      <th>Name</th>\n",
              "      <th>Sex</th>\n",
              "      <th>Age</th>\n",
              "      <th>SibSp</th>\n",
              "      <th>Parch</th>\n",
              "      <th>Ticket</th>\n",
              "      <th>Fare</th>\n",
              "      <th>Cabin</th>\n",
              "      <th>Embarked</th>\n",
              "    </tr>\n",
              "  </thead>\n",
              "  <tbody>\n",
              "    <tr>\n",
              "      <th>886</th>\n",
              "      <td>887</td>\n",
              "      <td>0</td>\n",
              "      <td>2</td>\n",
              "      <td>Montvila, Rev. Juozas</td>\n",
              "      <td>male</td>\n",
              "      <td>27.0</td>\n",
              "      <td>0</td>\n",
              "      <td>0</td>\n",
              "      <td>211536</td>\n",
              "      <td>13.00</td>\n",
              "      <td>NaN</td>\n",
              "      <td>S</td>\n",
              "    </tr>\n",
              "    <tr>\n",
              "      <th>887</th>\n",
              "      <td>888</td>\n",
              "      <td>1</td>\n",
              "      <td>1</td>\n",
              "      <td>Graham, Miss. Margaret Edith</td>\n",
              "      <td>female</td>\n",
              "      <td>19.0</td>\n",
              "      <td>0</td>\n",
              "      <td>0</td>\n",
              "      <td>112053</td>\n",
              "      <td>30.00</td>\n",
              "      <td>B42</td>\n",
              "      <td>S</td>\n",
              "    </tr>\n",
              "    <tr>\n",
              "      <th>888</th>\n",
              "      <td>889</td>\n",
              "      <td>0</td>\n",
              "      <td>3</td>\n",
              "      <td>Johnston, Miss. Catherine Helen \"Carrie\"</td>\n",
              "      <td>female</td>\n",
              "      <td>NaN</td>\n",
              "      <td>1</td>\n",
              "      <td>2</td>\n",
              "      <td>W./C. 6607</td>\n",
              "      <td>23.45</td>\n",
              "      <td>NaN</td>\n",
              "      <td>S</td>\n",
              "    </tr>\n",
              "    <tr>\n",
              "      <th>889</th>\n",
              "      <td>890</td>\n",
              "      <td>1</td>\n",
              "      <td>1</td>\n",
              "      <td>Behr, Mr. Karl Howell</td>\n",
              "      <td>male</td>\n",
              "      <td>26.0</td>\n",
              "      <td>0</td>\n",
              "      <td>0</td>\n",
              "      <td>111369</td>\n",
              "      <td>30.00</td>\n",
              "      <td>C148</td>\n",
              "      <td>C</td>\n",
              "    </tr>\n",
              "    <tr>\n",
              "      <th>890</th>\n",
              "      <td>891</td>\n",
              "      <td>0</td>\n",
              "      <td>3</td>\n",
              "      <td>Dooley, Mr. Patrick</td>\n",
              "      <td>male</td>\n",
              "      <td>32.0</td>\n",
              "      <td>0</td>\n",
              "      <td>0</td>\n",
              "      <td>370376</td>\n",
              "      <td>7.75</td>\n",
              "      <td>NaN</td>\n",
              "      <td>Q</td>\n",
              "    </tr>\n",
              "  </tbody>\n",
              "</table>\n",
              "</div>\n",
              "    <div class=\"colab-df-buttons\">\n",
              "\n",
              "  <div class=\"colab-df-container\">\n",
              "    <button class=\"colab-df-convert\" onclick=\"convertToInteractive('df-5f772a77-af5b-438e-9962-f565fb1f5040')\"\n",
              "            title=\"Convert this dataframe to an interactive table.\"\n",
              "            style=\"display:none;\">\n",
              "\n",
              "  <svg xmlns=\"http://www.w3.org/2000/svg\" height=\"24px\" viewBox=\"0 -960 960 960\">\n",
              "    <path d=\"M120-120v-720h720v720H120Zm60-500h600v-160H180v160Zm220 220h160v-160H400v160Zm0 220h160v-160H400v160ZM180-400h160v-160H180v160Zm440 0h160v-160H620v160ZM180-180h160v-160H180v160Zm440 0h160v-160H620v160Z\"/>\n",
              "  </svg>\n",
              "    </button>\n",
              "\n",
              "  <style>\n",
              "    .colab-df-container {\n",
              "      display:flex;\n",
              "      gap: 12px;\n",
              "    }\n",
              "\n",
              "    .colab-df-convert {\n",
              "      background-color: #E8F0FE;\n",
              "      border: none;\n",
              "      border-radius: 50%;\n",
              "      cursor: pointer;\n",
              "      display: none;\n",
              "      fill: #1967D2;\n",
              "      height: 32px;\n",
              "      padding: 0 0 0 0;\n",
              "      width: 32px;\n",
              "    }\n",
              "\n",
              "    .colab-df-convert:hover {\n",
              "      background-color: #E2EBFA;\n",
              "      box-shadow: 0px 1px 2px rgba(60, 64, 67, 0.3), 0px 1px 3px 1px rgba(60, 64, 67, 0.15);\n",
              "      fill: #174EA6;\n",
              "    }\n",
              "\n",
              "    .colab-df-buttons div {\n",
              "      margin-bottom: 4px;\n",
              "    }\n",
              "\n",
              "    [theme=dark] .colab-df-convert {\n",
              "      background-color: #3B4455;\n",
              "      fill: #D2E3FC;\n",
              "    }\n",
              "\n",
              "    [theme=dark] .colab-df-convert:hover {\n",
              "      background-color: #434B5C;\n",
              "      box-shadow: 0px 1px 3px 1px rgba(0, 0, 0, 0.15);\n",
              "      filter: drop-shadow(0px 1px 2px rgba(0, 0, 0, 0.3));\n",
              "      fill: #FFFFFF;\n",
              "    }\n",
              "  </style>\n",
              "\n",
              "    <script>\n",
              "      const buttonEl =\n",
              "        document.querySelector('#df-5f772a77-af5b-438e-9962-f565fb1f5040 button.colab-df-convert');\n",
              "      buttonEl.style.display =\n",
              "        google.colab.kernel.accessAllowed ? 'block' : 'none';\n",
              "\n",
              "      async function convertToInteractive(key) {\n",
              "        const element = document.querySelector('#df-5f772a77-af5b-438e-9962-f565fb1f5040');\n",
              "        const dataTable =\n",
              "          await google.colab.kernel.invokeFunction('convertToInteractive',\n",
              "                                                    [key], {});\n",
              "        if (!dataTable) return;\n",
              "\n",
              "        const docLinkHtml = 'Like what you see? Visit the ' +\n",
              "          '<a target=\"_blank\" href=https://colab.research.google.com/notebooks/data_table.ipynb>data table notebook</a>'\n",
              "          + ' to learn more about interactive tables.';\n",
              "        element.innerHTML = '';\n",
              "        dataTable['output_type'] = 'display_data';\n",
              "        await google.colab.output.renderOutput(dataTable, element);\n",
              "        const docLink = document.createElement('div');\n",
              "        docLink.innerHTML = docLinkHtml;\n",
              "        element.appendChild(docLink);\n",
              "      }\n",
              "    </script>\n",
              "  </div>\n",
              "\n",
              "\n",
              "<div id=\"df-b7c72b5b-2944-4d7b-84bc-3915363f7a61\">\n",
              "  <button class=\"colab-df-quickchart\" onclick=\"quickchart('df-b7c72b5b-2944-4d7b-84bc-3915363f7a61')\"\n",
              "            title=\"Suggest charts\"\n",
              "            style=\"display:none;\">\n",
              "\n",
              "<svg xmlns=\"http://www.w3.org/2000/svg\" height=\"24px\"viewBox=\"0 0 24 24\"\n",
              "     width=\"24px\">\n",
              "    <g>\n",
              "        <path d=\"M19 3H5c-1.1 0-2 .9-2 2v14c0 1.1.9 2 2 2h14c1.1 0 2-.9 2-2V5c0-1.1-.9-2-2-2zM9 17H7v-7h2v7zm4 0h-2V7h2v10zm4 0h-2v-4h2v4z\"/>\n",
              "    </g>\n",
              "</svg>\n",
              "  </button>\n",
              "\n",
              "<style>\n",
              "  .colab-df-quickchart {\n",
              "      --bg-color: #E8F0FE;\n",
              "      --fill-color: #1967D2;\n",
              "      --hover-bg-color: #E2EBFA;\n",
              "      --hover-fill-color: #174EA6;\n",
              "      --disabled-fill-color: #AAA;\n",
              "      --disabled-bg-color: #DDD;\n",
              "  }\n",
              "\n",
              "  [theme=dark] .colab-df-quickchart {\n",
              "      --bg-color: #3B4455;\n",
              "      --fill-color: #D2E3FC;\n",
              "      --hover-bg-color: #434B5C;\n",
              "      --hover-fill-color: #FFFFFF;\n",
              "      --disabled-bg-color: #3B4455;\n",
              "      --disabled-fill-color: #666;\n",
              "  }\n",
              "\n",
              "  .colab-df-quickchart {\n",
              "    background-color: var(--bg-color);\n",
              "    border: none;\n",
              "    border-radius: 50%;\n",
              "    cursor: pointer;\n",
              "    display: none;\n",
              "    fill: var(--fill-color);\n",
              "    height: 32px;\n",
              "    padding: 0;\n",
              "    width: 32px;\n",
              "  }\n",
              "\n",
              "  .colab-df-quickchart:hover {\n",
              "    background-color: var(--hover-bg-color);\n",
              "    box-shadow: 0 1px 2px rgba(60, 64, 67, 0.3), 0 1px 3px 1px rgba(60, 64, 67, 0.15);\n",
              "    fill: var(--button-hover-fill-color);\n",
              "  }\n",
              "\n",
              "  .colab-df-quickchart-complete:disabled,\n",
              "  .colab-df-quickchart-complete:disabled:hover {\n",
              "    background-color: var(--disabled-bg-color);\n",
              "    fill: var(--disabled-fill-color);\n",
              "    box-shadow: none;\n",
              "  }\n",
              "\n",
              "  .colab-df-spinner {\n",
              "    border: 2px solid var(--fill-color);\n",
              "    border-color: transparent;\n",
              "    border-bottom-color: var(--fill-color);\n",
              "    animation:\n",
              "      spin 1s steps(1) infinite;\n",
              "  }\n",
              "\n",
              "  @keyframes spin {\n",
              "    0% {\n",
              "      border-color: transparent;\n",
              "      border-bottom-color: var(--fill-color);\n",
              "      border-left-color: var(--fill-color);\n",
              "    }\n",
              "    20% {\n",
              "      border-color: transparent;\n",
              "      border-left-color: var(--fill-color);\n",
              "      border-top-color: var(--fill-color);\n",
              "    }\n",
              "    30% {\n",
              "      border-color: transparent;\n",
              "      border-left-color: var(--fill-color);\n",
              "      border-top-color: var(--fill-color);\n",
              "      border-right-color: var(--fill-color);\n",
              "    }\n",
              "    40% {\n",
              "      border-color: transparent;\n",
              "      border-right-color: var(--fill-color);\n",
              "      border-top-color: var(--fill-color);\n",
              "    }\n",
              "    60% {\n",
              "      border-color: transparent;\n",
              "      border-right-color: var(--fill-color);\n",
              "    }\n",
              "    80% {\n",
              "      border-color: transparent;\n",
              "      border-right-color: var(--fill-color);\n",
              "      border-bottom-color: var(--fill-color);\n",
              "    }\n",
              "    90% {\n",
              "      border-color: transparent;\n",
              "      border-bottom-color: var(--fill-color);\n",
              "    }\n",
              "  }\n",
              "</style>\n",
              "\n",
              "  <script>\n",
              "    async function quickchart(key) {\n",
              "      const quickchartButtonEl =\n",
              "        document.querySelector('#' + key + ' button');\n",
              "      quickchartButtonEl.disabled = true;  // To prevent multiple clicks.\n",
              "      quickchartButtonEl.classList.add('colab-df-spinner');\n",
              "      try {\n",
              "        const charts = await google.colab.kernel.invokeFunction(\n",
              "            'suggestCharts', [key], {});\n",
              "      } catch (error) {\n",
              "        console.error('Error during call to suggestCharts:', error);\n",
              "      }\n",
              "      quickchartButtonEl.classList.remove('colab-df-spinner');\n",
              "      quickchartButtonEl.classList.add('colab-df-quickchart-complete');\n",
              "    }\n",
              "    (() => {\n",
              "      let quickchartButtonEl =\n",
              "        document.querySelector('#df-b7c72b5b-2944-4d7b-84bc-3915363f7a61 button');\n",
              "      quickchartButtonEl.style.display =\n",
              "        google.colab.kernel.accessAllowed ? 'block' : 'none';\n",
              "    })();\n",
              "  </script>\n",
              "</div>\n",
              "\n",
              "    </div>\n",
              "  </div>\n"
            ],
            "text/plain": [
              "     PassengerId  Survived  Pclass                                      Name  \\\n",
              "886          887         0       2                     Montvila, Rev. Juozas   \n",
              "887          888         1       1              Graham, Miss. Margaret Edith   \n",
              "888          889         0       3  Johnston, Miss. Catherine Helen \"Carrie\"   \n",
              "889          890         1       1                     Behr, Mr. Karl Howell   \n",
              "890          891         0       3                       Dooley, Mr. Patrick   \n",
              "\n",
              "        Sex   Age  SibSp  Parch      Ticket   Fare Cabin Embarked  \n",
              "886    male  27.0      0      0      211536  13.00   NaN        S  \n",
              "887  female  19.0      0      0      112053  30.00   B42        S  \n",
              "888  female   NaN      1      2  W./C. 6607  23.45   NaN        S  \n",
              "889    male  26.0      0      0      111369  30.00  C148        C  \n",
              "890    male  32.0      0      0      370376   7.75   NaN        Q  "
            ]
          },
          "execution_count": 88,
          "metadata": {},
          "output_type": "execute_result"
        }
      ],
      "source": [
        "# Bottom 5 rows\n",
        "print(\"\\nBottom 5 rows:\\n\")\n",
        "titanic_df.tail(5)"
      ]
    },
    {
      "cell_type": "code",
      "execution_count": 91,
      "metadata": {
        "colab": {
          "base_uri": "https://localhost:8080/",
          "height": 258
        },
        "id": "UqBau9FMAcii",
        "outputId": "ce13a27a-8e3f-4828-9b05-5d95d668d5b5"
      },
      "outputs": [
        {
          "name": "stdout",
          "output_type": "stream",
          "text": [
            "\n",
            "Random 5 rows:\n",
            "\n"
          ]
        },
        {
          "data": {
            "application/vnd.google.colaboratory.intrinsic+json": {
              "summary": "{\n  \"name\": \"titanic_df\",\n  \"rows\": 5,\n  \"fields\": [\n    {\n      \"column\": \"PassengerId\",\n      \"properties\": {\n        \"dtype\": \"number\",\n        \"std\": 211,\n        \"min\": 204,\n        \"max\": 772,\n        \"num_unique_values\": 5,\n        \"samples\": [\n          204,\n          573,\n          583\n        ],\n        \"semantic_type\": \"\",\n        \"description\": \"\"\n      }\n    },\n    {\n      \"column\": \"Survived\",\n      \"properties\": {\n        \"dtype\": \"number\",\n        \"std\": 0,\n        \"min\": 0,\n        \"max\": 1,\n        \"num_unique_values\": 2,\n        \"samples\": [\n          1,\n          0\n        ],\n        \"semantic_type\": \"\",\n        \"description\": \"\"\n      }\n    },\n    {\n      \"column\": \"Pclass\",\n      \"properties\": {\n        \"dtype\": \"number\",\n        \"std\": 0,\n        \"min\": 1,\n        \"max\": 3,\n        \"num_unique_values\": 3,\n        \"samples\": [\n          2,\n          3\n        ],\n        \"semantic_type\": \"\",\n        \"description\": \"\"\n      }\n    },\n    {\n      \"column\": \"Name\",\n      \"properties\": {\n        \"dtype\": \"string\",\n        \"num_unique_values\": 5,\n        \"samples\": [\n          \"Youseff, Mr. Gerious\",\n          \"Flynn, Mr. John Irwin (\\\"Irving\\\")\"\n        ],\n        \"semantic_type\": \"\",\n        \"description\": \"\"\n      }\n    },\n    {\n      \"column\": \"Sex\",\n      \"properties\": {\n        \"dtype\": \"category\",\n        \"num_unique_values\": 1,\n        \"samples\": [\n          \"male\"\n        ],\n        \"semantic_type\": \"\",\n        \"description\": \"\"\n      }\n    },\n    {\n      \"column\": \"Age\",\n      \"properties\": {\n        \"dtype\": \"number\",\n        \"std\": 9.289779329994873,\n        \"min\": 31.0,\n        \"max\": 54.0,\n        \"num_unique_values\": 5,\n        \"samples\": [\n          45.5\n        ],\n        \"semantic_type\": \"\",\n        \"description\": \"\"\n      }\n    },\n    {\n      \"column\": \"SibSp\",\n      \"properties\": {\n        \"dtype\": \"number\",\n        \"std\": 0,\n        \"min\": 0,\n        \"max\": 1,\n        \"num_unique_values\": 2,\n        \"samples\": [\n          0\n        ],\n        \"semantic_type\": \"\",\n        \"description\": \"\"\n      }\n    },\n    {\n      \"column\": \"Parch\",\n      \"properties\": {\n        \"dtype\": \"number\",\n        \"std\": 0,\n        \"min\": 0,\n        \"max\": 1,\n        \"num_unique_values\": 2,\n        \"samples\": [\n          0\n        ],\n        \"semantic_type\": \"\",\n        \"description\": \"\"\n      }\n    },\n    {\n      \"column\": \"Ticket\",\n      \"properties\": {\n        \"dtype\": \"string\",\n        \"num_unique_values\": 5,\n        \"samples\": [\n          \"2628\"\n        ],\n        \"semantic_type\": \"\",\n        \"description\": \"\"\n      }\n    },\n    {\n      \"column\": \"Fare\",\n      \"properties\": {\n        \"dtype\": \"number\",\n        \"std\": 10.230930640855698,\n        \"min\": 7.225,\n        \"max\": 26.3875,\n        \"num_unique_values\": 5,\n        \"samples\": [\n          7.225\n        ],\n        \"semantic_type\": \"\",\n        \"description\": \"\"\n      }\n    },\n    {\n      \"column\": \"Cabin\",\n      \"properties\": {\n        \"dtype\": \"category\",\n        \"num_unique_values\": 1,\n        \"samples\": [\n          \"E25\"\n        ],\n        \"semantic_type\": \"\",\n        \"description\": \"\"\n      }\n    },\n    {\n      \"column\": \"Embarked\",\n      \"properties\": {\n        \"dtype\": \"category\",\n        \"num_unique_values\": 2,\n        \"samples\": [\n          \"C\"\n        ],\n        \"semantic_type\": \"\",\n        \"description\": \"\"\n      }\n    }\n  ]\n}",
              "type": "dataframe"
            },
            "text/html": [
              "\n",
              "  <div id=\"df-99a26bff-607d-483b-bf13-c94566e99d44\" class=\"colab-df-container\">\n",
              "    <div>\n",
              "<style scoped>\n",
              "    .dataframe tbody tr th:only-of-type {\n",
              "        vertical-align: middle;\n",
              "    }\n",
              "\n",
              "    .dataframe tbody tr th {\n",
              "        vertical-align: top;\n",
              "    }\n",
              "\n",
              "    .dataframe thead th {\n",
              "        text-align: right;\n",
              "    }\n",
              "</style>\n",
              "<table border=\"1\" class=\"dataframe\">\n",
              "  <thead>\n",
              "    <tr style=\"text-align: right;\">\n",
              "      <th></th>\n",
              "      <th>PassengerId</th>\n",
              "      <th>Survived</th>\n",
              "      <th>Pclass</th>\n",
              "      <th>Name</th>\n",
              "      <th>Sex</th>\n",
              "      <th>Age</th>\n",
              "      <th>SibSp</th>\n",
              "      <th>Parch</th>\n",
              "      <th>Ticket</th>\n",
              "      <th>Fare</th>\n",
              "      <th>Cabin</th>\n",
              "      <th>Embarked</th>\n",
              "    </tr>\n",
              "  </thead>\n",
              "  <tbody>\n",
              "    <tr>\n",
              "      <th>637</th>\n",
              "      <td>638</td>\n",
              "      <td>0</td>\n",
              "      <td>2</td>\n",
              "      <td>Collyer, Mr. Harvey</td>\n",
              "      <td>male</td>\n",
              "      <td>31.0</td>\n",
              "      <td>1</td>\n",
              "      <td>1</td>\n",
              "      <td>C.A. 31921</td>\n",
              "      <td>26.2500</td>\n",
              "      <td>NaN</td>\n",
              "      <td>S</td>\n",
              "    </tr>\n",
              "    <tr>\n",
              "      <th>203</th>\n",
              "      <td>204</td>\n",
              "      <td>0</td>\n",
              "      <td>3</td>\n",
              "      <td>Youseff, Mr. Gerious</td>\n",
              "      <td>male</td>\n",
              "      <td>45.5</td>\n",
              "      <td>0</td>\n",
              "      <td>0</td>\n",
              "      <td>2628</td>\n",
              "      <td>7.2250</td>\n",
              "      <td>NaN</td>\n",
              "      <td>C</td>\n",
              "    </tr>\n",
              "    <tr>\n",
              "      <th>582</th>\n",
              "      <td>583</td>\n",
              "      <td>0</td>\n",
              "      <td>2</td>\n",
              "      <td>Downton, Mr. William James</td>\n",
              "      <td>male</td>\n",
              "      <td>54.0</td>\n",
              "      <td>0</td>\n",
              "      <td>0</td>\n",
              "      <td>28403</td>\n",
              "      <td>26.0000</td>\n",
              "      <td>NaN</td>\n",
              "      <td>S</td>\n",
              "    </tr>\n",
              "    <tr>\n",
              "      <th>771</th>\n",
              "      <td>772</td>\n",
              "      <td>0</td>\n",
              "      <td>3</td>\n",
              "      <td>Jensen, Mr. Niels Peder</td>\n",
              "      <td>male</td>\n",
              "      <td>48.0</td>\n",
              "      <td>0</td>\n",
              "      <td>0</td>\n",
              "      <td>350047</td>\n",
              "      <td>7.8542</td>\n",
              "      <td>NaN</td>\n",
              "      <td>S</td>\n",
              "    </tr>\n",
              "    <tr>\n",
              "      <th>572</th>\n",
              "      <td>573</td>\n",
              "      <td>1</td>\n",
              "      <td>1</td>\n",
              "      <td>Flynn, Mr. John Irwin (\"Irving\")</td>\n",
              "      <td>male</td>\n",
              "      <td>36.0</td>\n",
              "      <td>0</td>\n",
              "      <td>0</td>\n",
              "      <td>PC 17474</td>\n",
              "      <td>26.3875</td>\n",
              "      <td>E25</td>\n",
              "      <td>S</td>\n",
              "    </tr>\n",
              "  </tbody>\n",
              "</table>\n",
              "</div>\n",
              "    <div class=\"colab-df-buttons\">\n",
              "\n",
              "  <div class=\"colab-df-container\">\n",
              "    <button class=\"colab-df-convert\" onclick=\"convertToInteractive('df-99a26bff-607d-483b-bf13-c94566e99d44')\"\n",
              "            title=\"Convert this dataframe to an interactive table.\"\n",
              "            style=\"display:none;\">\n",
              "\n",
              "  <svg xmlns=\"http://www.w3.org/2000/svg\" height=\"24px\" viewBox=\"0 -960 960 960\">\n",
              "    <path d=\"M120-120v-720h720v720H120Zm60-500h600v-160H180v160Zm220 220h160v-160H400v160Zm0 220h160v-160H400v160ZM180-400h160v-160H180v160Zm440 0h160v-160H620v160ZM180-180h160v-160H180v160Zm440 0h160v-160H620v160Z\"/>\n",
              "  </svg>\n",
              "    </button>\n",
              "\n",
              "  <style>\n",
              "    .colab-df-container {\n",
              "      display:flex;\n",
              "      gap: 12px;\n",
              "    }\n",
              "\n",
              "    .colab-df-convert {\n",
              "      background-color: #E8F0FE;\n",
              "      border: none;\n",
              "      border-radius: 50%;\n",
              "      cursor: pointer;\n",
              "      display: none;\n",
              "      fill: #1967D2;\n",
              "      height: 32px;\n",
              "      padding: 0 0 0 0;\n",
              "      width: 32px;\n",
              "    }\n",
              "\n",
              "    .colab-df-convert:hover {\n",
              "      background-color: #E2EBFA;\n",
              "      box-shadow: 0px 1px 2px rgba(60, 64, 67, 0.3), 0px 1px 3px 1px rgba(60, 64, 67, 0.15);\n",
              "      fill: #174EA6;\n",
              "    }\n",
              "\n",
              "    .colab-df-buttons div {\n",
              "      margin-bottom: 4px;\n",
              "    }\n",
              "\n",
              "    [theme=dark] .colab-df-convert {\n",
              "      background-color: #3B4455;\n",
              "      fill: #D2E3FC;\n",
              "    }\n",
              "\n",
              "    [theme=dark] .colab-df-convert:hover {\n",
              "      background-color: #434B5C;\n",
              "      box-shadow: 0px 1px 3px 1px rgba(0, 0, 0, 0.15);\n",
              "      filter: drop-shadow(0px 1px 2px rgba(0, 0, 0, 0.3));\n",
              "      fill: #FFFFFF;\n",
              "    }\n",
              "  </style>\n",
              "\n",
              "    <script>\n",
              "      const buttonEl =\n",
              "        document.querySelector('#df-99a26bff-607d-483b-bf13-c94566e99d44 button.colab-df-convert');\n",
              "      buttonEl.style.display =\n",
              "        google.colab.kernel.accessAllowed ? 'block' : 'none';\n",
              "\n",
              "      async function convertToInteractive(key) {\n",
              "        const element = document.querySelector('#df-99a26bff-607d-483b-bf13-c94566e99d44');\n",
              "        const dataTable =\n",
              "          await google.colab.kernel.invokeFunction('convertToInteractive',\n",
              "                                                    [key], {});\n",
              "        if (!dataTable) return;\n",
              "\n",
              "        const docLinkHtml = 'Like what you see? Visit the ' +\n",
              "          '<a target=\"_blank\" href=https://colab.research.google.com/notebooks/data_table.ipynb>data table notebook</a>'\n",
              "          + ' to learn more about interactive tables.';\n",
              "        element.innerHTML = '';\n",
              "        dataTable['output_type'] = 'display_data';\n",
              "        await google.colab.output.renderOutput(dataTable, element);\n",
              "        const docLink = document.createElement('div');\n",
              "        docLink.innerHTML = docLinkHtml;\n",
              "        element.appendChild(docLink);\n",
              "      }\n",
              "    </script>\n",
              "  </div>\n",
              "\n",
              "\n",
              "<div id=\"df-f6725974-3350-4d95-8c61-2bce7067b43e\">\n",
              "  <button class=\"colab-df-quickchart\" onclick=\"quickchart('df-f6725974-3350-4d95-8c61-2bce7067b43e')\"\n",
              "            title=\"Suggest charts\"\n",
              "            style=\"display:none;\">\n",
              "\n",
              "<svg xmlns=\"http://www.w3.org/2000/svg\" height=\"24px\"viewBox=\"0 0 24 24\"\n",
              "     width=\"24px\">\n",
              "    <g>\n",
              "        <path d=\"M19 3H5c-1.1 0-2 .9-2 2v14c0 1.1.9 2 2 2h14c1.1 0 2-.9 2-2V5c0-1.1-.9-2-2-2zM9 17H7v-7h2v7zm4 0h-2V7h2v10zm4 0h-2v-4h2v4z\"/>\n",
              "    </g>\n",
              "</svg>\n",
              "  </button>\n",
              "\n",
              "<style>\n",
              "  .colab-df-quickchart {\n",
              "      --bg-color: #E8F0FE;\n",
              "      --fill-color: #1967D2;\n",
              "      --hover-bg-color: #E2EBFA;\n",
              "      --hover-fill-color: #174EA6;\n",
              "      --disabled-fill-color: #AAA;\n",
              "      --disabled-bg-color: #DDD;\n",
              "  }\n",
              "\n",
              "  [theme=dark] .colab-df-quickchart {\n",
              "      --bg-color: #3B4455;\n",
              "      --fill-color: #D2E3FC;\n",
              "      --hover-bg-color: #434B5C;\n",
              "      --hover-fill-color: #FFFFFF;\n",
              "      --disabled-bg-color: #3B4455;\n",
              "      --disabled-fill-color: #666;\n",
              "  }\n",
              "\n",
              "  .colab-df-quickchart {\n",
              "    background-color: var(--bg-color);\n",
              "    border: none;\n",
              "    border-radius: 50%;\n",
              "    cursor: pointer;\n",
              "    display: none;\n",
              "    fill: var(--fill-color);\n",
              "    height: 32px;\n",
              "    padding: 0;\n",
              "    width: 32px;\n",
              "  }\n",
              "\n",
              "  .colab-df-quickchart:hover {\n",
              "    background-color: var(--hover-bg-color);\n",
              "    box-shadow: 0 1px 2px rgba(60, 64, 67, 0.3), 0 1px 3px 1px rgba(60, 64, 67, 0.15);\n",
              "    fill: var(--button-hover-fill-color);\n",
              "  }\n",
              "\n",
              "  .colab-df-quickchart-complete:disabled,\n",
              "  .colab-df-quickchart-complete:disabled:hover {\n",
              "    background-color: var(--disabled-bg-color);\n",
              "    fill: var(--disabled-fill-color);\n",
              "    box-shadow: none;\n",
              "  }\n",
              "\n",
              "  .colab-df-spinner {\n",
              "    border: 2px solid var(--fill-color);\n",
              "    border-color: transparent;\n",
              "    border-bottom-color: var(--fill-color);\n",
              "    animation:\n",
              "      spin 1s steps(1) infinite;\n",
              "  }\n",
              "\n",
              "  @keyframes spin {\n",
              "    0% {\n",
              "      border-color: transparent;\n",
              "      border-bottom-color: var(--fill-color);\n",
              "      border-left-color: var(--fill-color);\n",
              "    }\n",
              "    20% {\n",
              "      border-color: transparent;\n",
              "      border-left-color: var(--fill-color);\n",
              "      border-top-color: var(--fill-color);\n",
              "    }\n",
              "    30% {\n",
              "      border-color: transparent;\n",
              "      border-left-color: var(--fill-color);\n",
              "      border-top-color: var(--fill-color);\n",
              "      border-right-color: var(--fill-color);\n",
              "    }\n",
              "    40% {\n",
              "      border-color: transparent;\n",
              "      border-right-color: var(--fill-color);\n",
              "      border-top-color: var(--fill-color);\n",
              "    }\n",
              "    60% {\n",
              "      border-color: transparent;\n",
              "      border-right-color: var(--fill-color);\n",
              "    }\n",
              "    80% {\n",
              "      border-color: transparent;\n",
              "      border-right-color: var(--fill-color);\n",
              "      border-bottom-color: var(--fill-color);\n",
              "    }\n",
              "    90% {\n",
              "      border-color: transparent;\n",
              "      border-bottom-color: var(--fill-color);\n",
              "    }\n",
              "  }\n",
              "</style>\n",
              "\n",
              "  <script>\n",
              "    async function quickchart(key) {\n",
              "      const quickchartButtonEl =\n",
              "        document.querySelector('#' + key + ' button');\n",
              "      quickchartButtonEl.disabled = true;  // To prevent multiple clicks.\n",
              "      quickchartButtonEl.classList.add('colab-df-spinner');\n",
              "      try {\n",
              "        const charts = await google.colab.kernel.invokeFunction(\n",
              "            'suggestCharts', [key], {});\n",
              "      } catch (error) {\n",
              "        console.error('Error during call to suggestCharts:', error);\n",
              "      }\n",
              "      quickchartButtonEl.classList.remove('colab-df-spinner');\n",
              "      quickchartButtonEl.classList.add('colab-df-quickchart-complete');\n",
              "    }\n",
              "    (() => {\n",
              "      let quickchartButtonEl =\n",
              "        document.querySelector('#df-f6725974-3350-4d95-8c61-2bce7067b43e button');\n",
              "      quickchartButtonEl.style.display =\n",
              "        google.colab.kernel.accessAllowed ? 'block' : 'none';\n",
              "    })();\n",
              "  </script>\n",
              "</div>\n",
              "\n",
              "    </div>\n",
              "  </div>\n"
            ],
            "text/plain": [
              "     PassengerId  Survived  Pclass                              Name   Sex  \\\n",
              "637          638         0       2               Collyer, Mr. Harvey  male   \n",
              "203          204         0       3              Youseff, Mr. Gerious  male   \n",
              "582          583         0       2        Downton, Mr. William James  male   \n",
              "771          772         0       3           Jensen, Mr. Niels Peder  male   \n",
              "572          573         1       1  Flynn, Mr. John Irwin (\"Irving\")  male   \n",
              "\n",
              "      Age  SibSp  Parch      Ticket     Fare Cabin Embarked  \n",
              "637  31.0      1      1  C.A. 31921  26.2500   NaN        S  \n",
              "203  45.5      0      0        2628   7.2250   NaN        C  \n",
              "582  54.0      0      0       28403  26.0000   NaN        S  \n",
              "771  48.0      0      0      350047   7.8542   NaN        S  \n",
              "572  36.0      0      0    PC 17474  26.3875   E25        S  "
            ]
          },
          "execution_count": 91,
          "metadata": {},
          "output_type": "execute_result"
        }
      ],
      "source": [
        "# Random 5 rows\n",
        "print(\"\\nRandom 5 rows:\\n\")\n",
        "titanic_df.sample(5)"
      ]
    },
    {
      "cell_type": "code",
      "execution_count": 10,
      "metadata": {
        "colab": {
          "base_uri": "https://localhost:8080/"
        },
        "id": "Os53dcg3AoFM",
        "outputId": "cf19980a-6a98-40ee-e38e-a1418817e799"
      },
      "outputs": [
        {
          "name": "stdout",
          "output_type": "stream",
          "text": [
            "\n",
            "Information about the Dataset:\n",
            "<class 'pandas.core.frame.DataFrame'>\n",
            "RangeIndex: 891 entries, 0 to 890\n",
            "Data columns (total 12 columns):\n",
            " #   Column       Non-Null Count  Dtype  \n",
            "---  ------       --------------  -----  \n",
            " 0   PassengerId  891 non-null    int64  \n",
            " 1   Survived     891 non-null    int64  \n",
            " 2   Pclass       891 non-null    int64  \n",
            " 3   Name         891 non-null    object \n",
            " 4   Sex          891 non-null    object \n",
            " 5   Age          714 non-null    float64\n",
            " 6   SibSp        891 non-null    int64  \n",
            " 7   Parch        891 non-null    int64  \n",
            " 8   Ticket       891 non-null    object \n",
            " 9   Fare         891 non-null    float64\n",
            " 10  Cabin        204 non-null    object \n",
            " 11  Embarked     889 non-null    object \n",
            "dtypes: float64(2), int64(5), object(5)\n",
            "memory usage: 83.7+ KB\n"
          ]
        }
      ],
      "source": [
        "# Information about the Dataset\n",
        "print(\"\\nInformation about the Dataset:\")\n",
        "titanic_df.info()"
      ]
    },
    {
      "cell_type": "code",
      "execution_count": 11,
      "metadata": {
        "colab": {
          "base_uri": "https://localhost:8080/"
        },
        "id": "SP95yXr6Ajr7",
        "outputId": "bf90425a-ab91-4419-e2f8-62eba3f0d570"
      },
      "outputs": [
        {
          "name": "stdout",
          "output_type": "stream",
          "text": [
            "\n",
            "Summary Statistics:\n",
            "        PassengerId    Survived      Pclass         Age       SibSp  \\\n",
            "count   891.000000  891.000000  891.000000  714.000000  891.000000   \n",
            "mean    446.000000    0.383838    2.308642   29.699118    0.523008   \n",
            "std     257.353842    0.486592    0.836071   14.526497    1.102743   \n",
            "min       1.000000    0.000000    1.000000    0.420000    0.000000   \n",
            "25%     223.500000    0.000000    2.000000   20.125000    0.000000   \n",
            "50%     446.000000    0.000000    3.000000   28.000000    0.000000   \n",
            "75%     668.500000    1.000000    3.000000   38.000000    1.000000   \n",
            "max     891.000000    1.000000    3.000000   80.000000    8.000000   \n",
            "\n",
            "            Parch        Fare  \n",
            "count  891.000000  891.000000  \n",
            "mean     0.381594   32.204208  \n",
            "std      0.806057   49.693429  \n",
            "min      0.000000    0.000000  \n",
            "25%      0.000000    7.910400  \n",
            "50%      0.000000   14.454200  \n",
            "75%      0.000000   31.000000  \n",
            "max      6.000000  512.329200  \n"
          ]
        }
      ],
      "source": [
        "# Summary Statistics\n",
        "print(\"\\nSummary Statistics:\\n\", titanic_df.describe())"
      ]
    },
    {
      "cell_type": "code",
      "execution_count": 16,
      "metadata": {
        "colab": {
          "base_uri": "https://localhost:8080/"
        },
        "id": "_idXsk0kAmi9",
        "outputId": "35fb5e5c-3137-448c-9f2b-b5b7261dbd26"
      },
      "outputs": [
        {
          "name": "stdout",
          "output_type": "stream",
          "text": [
            "\n",
            "Missing values in each column:\n",
            " PassengerId      0\n",
            "Survived         0\n",
            "Pclass           0\n",
            "Name             0\n",
            "Sex              0\n",
            "Age            177\n",
            "SibSp            0\n",
            "Parch            0\n",
            "Ticket           0\n",
            "Fare             0\n",
            "Cabin          687\n",
            "Embarked         2\n",
            "0      22.00\n",
            "1      38.00\n",
            "2      26.00\n",
            "3      35.00\n",
            "4      35.00\n",
            "5        NaN\n",
            "6      54.00\n",
            "7       2.00\n",
            "8      27.00\n",
            "9      14.00\n",
            "10      4.00\n",
            "11     58.00\n",
            "12     20.00\n",
            "13     39.00\n",
            "14     14.00\n",
            "15     55.00\n",
            "16      2.00\n",
            "17       NaN\n",
            "18     31.00\n",
            "19       NaN\n",
            "20     35.00\n",
            "21     34.00\n",
            "22     15.00\n",
            "23     28.00\n",
            "24      8.00\n",
            "25     38.00\n",
            "26       NaN\n",
            "27     19.00\n",
            "28       NaN\n",
            "29       NaN\n",
            "30     40.00\n",
            "31       NaN\n",
            "32       NaN\n",
            "33     66.00\n",
            "34     28.00\n",
            "35     42.00\n",
            "36       NaN\n",
            "37     21.00\n",
            "38     18.00\n",
            "39     14.00\n",
            "40     40.00\n",
            "41     27.00\n",
            "42       NaN\n",
            "43      3.00\n",
            "44     19.00\n",
            "45       NaN\n",
            "46       NaN\n",
            "47       NaN\n",
            "48       NaN\n",
            "49     18.00\n",
            "50      7.00\n",
            "51     21.00\n",
            "52     49.00\n",
            "53     29.00\n",
            "54     65.00\n",
            "55       NaN\n",
            "56     21.00\n",
            "57     28.50\n",
            "58      5.00\n",
            "59     11.00\n",
            "60     22.00\n",
            "61     38.00\n",
            "62     45.00\n",
            "63      4.00\n",
            "64       NaN\n",
            "65       NaN\n",
            "66     29.00\n",
            "67     19.00\n",
            "68     17.00\n",
            "69     26.00\n",
            "70     32.00\n",
            "71     16.00\n",
            "72     21.00\n",
            "73     26.00\n",
            "74     32.00\n",
            "75     25.00\n",
            "76       NaN\n",
            "77       NaN\n",
            "78      0.83\n",
            "79     30.00\n",
            "80     22.00\n",
            "81     29.00\n",
            "82       NaN\n",
            "83     28.00\n",
            "84     17.00\n",
            "85     33.00\n",
            "86     16.00\n",
            "87       NaN\n",
            "88     23.00\n",
            "89     24.00\n",
            "90     29.00\n",
            "91     20.00\n",
            "92     46.00\n",
            "93     26.00\n",
            "94     59.00\n",
            "95       NaN\n",
            "96     71.00\n",
            "97     23.00\n",
            "98     34.00\n",
            "99     34.00\n",
            "100    28.00\n",
            "101      NaN\n",
            "102    21.00\n",
            "103    33.00\n",
            "104    37.00\n",
            "105    28.00\n",
            "106    21.00\n",
            "107      NaN\n",
            "108    38.00\n",
            "109      NaN\n",
            "110    47.00\n",
            "111    14.50\n",
            "112    22.00\n",
            "113    20.00\n",
            "114    17.00\n",
            "115    21.00\n",
            "116    70.50\n",
            "117    29.00\n",
            "118    24.00\n",
            "119     2.00\n",
            "120    21.00\n",
            "121      NaN\n",
            "122    32.50\n",
            "123    32.50\n",
            "124    54.00\n",
            "125    12.00\n",
            "126      NaN\n",
            "127    24.00\n",
            "128      NaN\n",
            "129    45.00\n",
            "130    33.00\n",
            "131    20.00\n",
            "132    47.00\n",
            "133    29.00\n",
            "134    25.00\n",
            "135    23.00\n",
            "136    19.00\n",
            "137    37.00\n",
            "138    16.00\n",
            "139    24.00\n",
            "140      NaN\n",
            "141    22.00\n",
            "142    24.00\n",
            "143    19.00\n",
            "144    18.00\n",
            "145    19.00\n",
            "146    27.00\n",
            "147     9.00\n",
            "148    36.50\n",
            "149    42.00\n",
            "150    51.00\n",
            "151    22.00\n",
            "152    55.50\n",
            "153    40.50\n",
            "154      NaN\n",
            "155    51.00\n",
            "156    16.00\n",
            "157    30.00\n",
            "158      NaN\n",
            "159      NaN\n",
            "160    44.00\n",
            "161    40.00\n",
            "162    26.00\n",
            "163    17.00\n",
            "164     1.00\n",
            "165     9.00\n",
            "166      NaN\n",
            "167    45.00\n",
            "168      NaN\n",
            "169    28.00\n",
            "170    61.00\n",
            "171     4.00\n",
            "172     1.00\n",
            "173    21.00\n",
            "174    56.00\n",
            "175    18.00\n",
            "176      NaN\n",
            "177    50.00\n",
            "178    30.00\n",
            "179    36.00\n",
            "180      NaN\n",
            "181      NaN\n",
            "182     9.00\n",
            "183     1.00\n",
            "184     4.00\n",
            "185      NaN\n",
            "186      NaN\n",
            "187    45.00\n",
            "188    40.00\n",
            "189    36.00\n",
            "190    32.00\n",
            "191    19.00\n",
            "192    19.00\n",
            "193     3.00\n",
            "194    44.00\n",
            "195    58.00\n",
            "196      NaN\n",
            "197    42.00\n",
            "198      NaN\n",
            "199    24.00\n",
            "200    28.00\n",
            "201      NaN\n",
            "202    34.00\n",
            "203    45.50\n",
            "204    18.00\n",
            "205     2.00\n",
            "206    32.00\n",
            "207    26.00\n",
            "208    16.00\n",
            "209    40.00\n",
            "210    24.00\n",
            "211    35.00\n",
            "212    22.00\n",
            "213    30.00\n",
            "214      NaN\n",
            "215    31.00\n",
            "216    27.00\n",
            "217    42.00\n",
            "218    32.00\n",
            "219    30.00\n",
            "220    16.00\n",
            "221    27.00\n",
            "222    51.00\n",
            "223      NaN\n",
            "224    38.00\n",
            "225    22.00\n",
            "226    19.00\n",
            "227    20.50\n",
            "228    18.00\n",
            "229      NaN\n",
            "230    35.00\n",
            "231    29.00\n",
            "232    59.00\n",
            "233     5.00\n",
            "234    24.00\n",
            "235      NaN\n",
            "236    44.00\n",
            "237     8.00\n",
            "238    19.00\n",
            "239    33.00\n",
            "240      NaN\n",
            "241      NaN\n",
            "242    29.00\n",
            "243    22.00\n",
            "244    30.00\n",
            "245    44.00\n",
            "246    25.00\n",
            "247    24.00\n",
            "248    37.00\n",
            "249    54.00\n",
            "250      NaN\n",
            "251    29.00\n",
            "252    62.00\n",
            "253    30.00\n",
            "254    41.00\n",
            "255    29.00\n",
            "256      NaN\n",
            "257    30.00\n",
            "258    35.00\n",
            "259    50.00\n",
            "260      NaN\n",
            "261     3.00\n",
            "262    52.00\n",
            "263    40.00\n",
            "264      NaN\n",
            "265    36.00\n",
            "266    16.00\n",
            "267    25.00\n",
            "268    58.00\n",
            "269    35.00\n",
            "270      NaN\n",
            "271    25.00\n",
            "272    41.00\n",
            "273    37.00\n",
            "274      NaN\n",
            "275    63.00\n",
            "276    45.00\n",
            "277      NaN\n",
            "278     7.00\n",
            "279    35.00\n",
            "280    65.00\n",
            "281    28.00\n",
            "282    16.00\n",
            "283    19.00\n",
            "284      NaN\n",
            "285    33.00\n",
            "286    30.00\n",
            "287    22.00\n",
            "288    42.00\n",
            "289    22.00\n",
            "290    26.00\n",
            "291    19.00\n",
            "292    36.00\n",
            "293    24.00\n",
            "294    24.00\n",
            "295      NaN\n",
            "296    23.50\n",
            "297     2.00\n",
            "298      NaN\n",
            "299    50.00\n",
            "300      NaN\n",
            "301      NaN\n",
            "302    19.00\n",
            "303      NaN\n",
            "304      NaN\n",
            "305     0.92\n",
            "306      NaN\n",
            "307    17.00\n",
            "308    30.00\n",
            "309    30.00\n",
            "310    24.00\n",
            "311    18.00\n",
            "312    26.00\n",
            "313    28.00\n",
            "314    43.00\n",
            "315    26.00\n",
            "316    24.00\n",
            "317    54.00\n",
            "318    31.00\n",
            "319    40.00\n",
            "320    22.00\n",
            "321    27.00\n",
            "322    30.00\n",
            "323    22.00\n",
            "324      NaN\n",
            "325    36.00\n",
            "326    61.00\n",
            "327    36.00\n",
            "328    31.00\n",
            "329    16.00\n",
            "330      NaN\n",
            "331    45.50\n",
            "332    38.00\n",
            "333    16.00\n",
            "334      NaN\n",
            "335      NaN\n",
            "336    29.00\n",
            "337    41.00\n",
            "338    45.00\n",
            "339    45.00\n",
            "340     2.00\n",
            "341    24.00\n",
            "342    28.00\n",
            "343    25.00\n",
            "344    36.00\n",
            "345    24.00\n",
            "346    40.00\n",
            "347      NaN\n",
            "348     3.00\n",
            "349    42.00\n",
            "350    23.00\n",
            "351      NaN\n",
            "352    15.00\n",
            "353    25.00\n",
            "354      NaN\n",
            "355    28.00\n",
            "356    22.00\n",
            "357    38.00\n",
            "358      NaN\n",
            "359      NaN\n",
            "360    40.00\n",
            "361    29.00\n",
            "362    45.00\n",
            "363    35.00\n",
            "364      NaN\n",
            "365    30.00\n",
            "366    60.00\n",
            "367      NaN\n",
            "368      NaN\n",
            "369    24.00\n",
            "370    25.00\n",
            "371    18.00\n",
            "372    19.00\n",
            "373    22.00\n",
            "374     3.00\n",
            "375      NaN\n",
            "376    22.00\n",
            "377    27.00\n",
            "378    20.00\n",
            "379    19.00\n",
            "380    42.00\n",
            "381     1.00\n",
            "382    32.00\n",
            "383    35.00\n",
            "384      NaN\n",
            "385    18.00\n",
            "386     1.00\n",
            "387    36.00\n",
            "388      NaN\n",
            "389    17.00\n",
            "390    36.00\n",
            "391    21.00\n",
            "392    28.00\n",
            "393    23.00\n",
            "394    24.00\n",
            "395    22.00\n",
            "396    31.00\n",
            "397    46.00\n",
            "398    23.00\n",
            "399    28.00\n",
            "400    39.00\n",
            "401    26.00\n",
            "402    21.00\n",
            "403    28.00\n",
            "404    20.00\n",
            "405    34.00\n",
            "406    51.00\n",
            "407     3.00\n",
            "408    21.00\n",
            "409      NaN\n",
            "410      NaN\n",
            "411      NaN\n",
            "412    33.00\n",
            "413      NaN\n",
            "414    44.00\n",
            "415      NaN\n",
            "416    34.00\n",
            "417    18.00\n",
            "418    30.00\n",
            "419    10.00\n",
            "420      NaN\n",
            "421    21.00\n",
            "422    29.00\n",
            "423    28.00\n",
            "424    18.00\n",
            "425      NaN\n",
            "426    28.00\n",
            "427    19.00\n",
            "428      NaN\n",
            "429    32.00\n",
            "430    28.00\n",
            "431      NaN\n",
            "432    42.00\n",
            "433    17.00\n",
            "434    50.00\n",
            "435    14.00\n",
            "436    21.00\n",
            "437    24.00\n",
            "438    64.00\n",
            "439    31.00\n",
            "440    45.00\n",
            "441    20.00\n",
            "442    25.00\n",
            "443    28.00\n",
            "444      NaN\n",
            "445     4.00\n",
            "446    13.00\n",
            "447    34.00\n",
            "448     5.00\n",
            "449    52.00\n",
            "450    36.00\n",
            "451      NaN\n",
            "452    30.00\n",
            "453    49.00\n",
            "454      NaN\n",
            "455    29.00\n",
            "456    65.00\n",
            "457      NaN\n",
            "458    50.00\n",
            "459      NaN\n",
            "460    48.00\n",
            "461    34.00\n",
            "462    47.00\n",
            "463    48.00\n",
            "464      NaN\n",
            "465    38.00\n",
            "466      NaN\n",
            "467    56.00\n",
            "468      NaN\n",
            "469     0.75\n",
            "470      NaN\n",
            "471    38.00\n",
            "472    33.00\n",
            "473    23.00\n",
            "474    22.00\n",
            "475      NaN\n",
            "476    34.00\n",
            "477    29.00\n",
            "478    22.00\n",
            "479     2.00\n",
            "480     9.00\n",
            "481      NaN\n",
            "482    50.00\n",
            "483    63.00\n",
            "484    25.00\n",
            "485      NaN\n",
            "486    35.00\n",
            "487    58.00\n",
            "488    30.00\n",
            "489     9.00\n",
            "490      NaN\n",
            "491    21.00\n",
            "492    55.00\n",
            "493    71.00\n",
            "494    21.00\n",
            "495      NaN\n",
            "496    54.00\n",
            "497      NaN\n",
            "498    25.00\n",
            "499    24.00\n",
            "500    17.00\n",
            "501    21.00\n",
            "502      NaN\n",
            "503    37.00\n",
            "504    16.00\n",
            "505    18.00\n",
            "506    33.00\n",
            "507      NaN\n",
            "508    28.00\n",
            "509    26.00\n",
            "510    29.00\n",
            "511      NaN\n",
            "512    36.00\n",
            "513    54.00\n",
            "514    24.00\n",
            "515    47.00\n",
            "516    34.00\n",
            "517      NaN\n",
            "518    36.00\n",
            "519    32.00\n",
            "520    30.00\n",
            "521    22.00\n",
            "522      NaN\n",
            "523    44.00\n",
            "524      NaN\n",
            "525    40.50\n",
            "526    50.00\n",
            "527      NaN\n",
            "528    39.00\n",
            "529    23.00\n",
            "530     2.00\n",
            "531      NaN\n",
            "532    17.00\n",
            "533      NaN\n",
            "534    30.00\n",
            "535     7.00\n",
            "536    45.00\n",
            "537    30.00\n",
            "538      NaN\n",
            "539    22.00\n",
            "540    36.00\n",
            "541     9.00\n",
            "542    11.00\n",
            "543    32.00\n",
            "544    50.00\n",
            "545    64.00\n",
            "546    19.00\n",
            "547      NaN\n",
            "548    33.00\n",
            "549     8.00\n",
            "550    17.00\n",
            "551    27.00\n",
            "552      NaN\n",
            "553    22.00\n",
            "554    22.00\n",
            "555    62.00\n",
            "556    48.00\n",
            "557      NaN\n",
            "558    39.00\n",
            "559    36.00\n",
            "560      NaN\n",
            "561    40.00\n",
            "562    28.00\n",
            "563      NaN\n",
            "564      NaN\n",
            "565    24.00\n",
            "566    19.00\n",
            "567    29.00\n",
            "568      NaN\n",
            "569    32.00\n",
            "570    62.00\n",
            "571    53.00\n",
            "572    36.00\n",
            "573      NaN\n",
            "574    16.00\n",
            "575    19.00\n",
            "576    34.00\n",
            "577    39.00\n",
            "578      NaN\n",
            "579    32.00\n",
            "580    25.00\n",
            "581    39.00\n",
            "582    54.00\n",
            "583    36.00\n",
            "584      NaN\n",
            "585    18.00\n",
            "586    47.00\n",
            "587    60.00\n",
            "588    22.00\n",
            "589      NaN\n",
            "590    35.00\n",
            "591    52.00\n",
            "592    47.00\n",
            "593      NaN\n",
            "594    37.00\n",
            "595    36.00\n",
            "596      NaN\n",
            "597    49.00\n",
            "598      NaN\n",
            "599    49.00\n",
            "600    24.00\n",
            "601      NaN\n",
            "602      NaN\n",
            "603    44.00\n",
            "604    35.00\n",
            "605    36.00\n",
            "606    30.00\n",
            "607    27.00\n",
            "608    22.00\n",
            "609    40.00\n",
            "610    39.00\n",
            "611      NaN\n",
            "612      NaN\n",
            "613      NaN\n",
            "614    35.00\n",
            "615    24.00\n",
            "616    34.00\n",
            "617    26.00\n",
            "618     4.00\n",
            "619    26.00\n",
            "620    27.00\n",
            "621    42.00\n",
            "622    20.00\n",
            "623    21.00\n",
            "624    21.00\n",
            "625    61.00\n",
            "626    57.00\n",
            "627    21.00\n",
            "628    26.00\n",
            "629      NaN\n",
            "630    80.00\n",
            "631    51.00\n",
            "632    32.00\n",
            "633      NaN\n",
            "634     9.00\n",
            "635    28.00\n",
            "636    32.00\n",
            "637    31.00\n",
            "638    41.00\n",
            "639      NaN\n",
            "640    20.00\n",
            "641    24.00\n",
            "642     2.00\n",
            "643      NaN\n",
            "644     0.75\n",
            "645    48.00\n",
            "646    19.00\n",
            "647    56.00\n",
            "648      NaN\n",
            "649    23.00\n",
            "650      NaN\n",
            "651    18.00\n",
            "652    21.00\n",
            "653      NaN\n",
            "654    18.00\n",
            "655    24.00\n",
            "656      NaN\n",
            "657    32.00\n",
            "658    23.00\n",
            "659    58.00\n",
            "660    50.00\n",
            "661    40.00\n",
            "662    47.00\n",
            "663    36.00\n",
            "664    20.00\n",
            "665    32.00\n",
            "666    25.00\n",
            "667      NaN\n",
            "668    43.00\n",
            "669      NaN\n",
            "670    40.00\n",
            "671    31.00\n",
            "672    70.00\n",
            "673    31.00\n",
            "674      NaN\n",
            "675    18.00\n",
            "676    24.50\n",
            "677    18.00\n",
            "678    43.00\n",
            "679    36.00\n",
            "680      NaN\n",
            "681    27.00\n",
            "682    20.00\n",
            "683    14.00\n",
            "684    60.00\n",
            "685    25.00\n",
            "686    14.00\n",
            "687    19.00\n",
            "688    18.00\n",
            "689    15.00\n",
            "690    31.00\n",
            "691     4.00\n",
            "692      NaN\n",
            "693    25.00\n",
            "694    60.00\n",
            "695    52.00\n",
            "696    44.00\n",
            "697      NaN\n",
            "698    49.00\n",
            "699    42.00\n",
            "700    18.00\n",
            "701    35.00\n",
            "702    18.00\n",
            "703    25.00\n",
            "704    26.00\n",
            "705    39.00\n",
            "706    45.00\n",
            "707    42.00\n",
            "708    22.00\n",
            "709      NaN\n",
            "710    24.00\n",
            "711      NaN\n",
            "712    48.00\n",
            "713    29.00\n",
            "714    52.00\n",
            "715    19.00\n",
            "716    38.00\n",
            "717    27.00\n",
            "718      NaN\n",
            "719    33.00\n",
            "720     6.00\n",
            "721    17.00\n",
            "722    34.00\n",
            "723    50.00\n",
            "724    27.00\n",
            "725    20.00\n",
            "726    30.00\n",
            "727      NaN\n",
            "728    25.00\n",
            "729    25.00\n",
            "730    29.00\n",
            "731    11.00\n",
            "732      NaN\n",
            "733    23.00\n",
            "734    23.00\n",
            "735    28.50\n",
            "736    48.00\n",
            "737    35.00\n",
            "738      NaN\n",
            "739      NaN\n",
            "740      NaN\n",
            "741    36.00\n",
            "742    21.00\n",
            "743    24.00\n",
            "744    31.00\n",
            "745    70.00\n",
            "746    16.00\n",
            "747    30.00\n",
            "748    19.00\n",
            "749    31.00\n",
            "750     4.00\n",
            "751     6.00\n",
            "752    33.00\n",
            "753    23.00\n",
            "754    48.00\n",
            "755     0.67\n",
            "756    28.00\n",
            "757    18.00\n",
            "758    34.00\n",
            "759    33.00\n",
            "760      NaN\n",
            "761    41.00\n",
            "762    20.00\n",
            "763    36.00\n",
            "764    16.00\n",
            "765    51.00\n",
            "766      NaN\n",
            "767    30.50\n",
            "768      NaN\n",
            "769    32.00\n",
            "770    24.00\n",
            "771    48.00\n",
            "772    57.00\n",
            "773      NaN\n",
            "774    54.00\n",
            "775    18.00\n",
            "776      NaN\n",
            "777     5.00\n",
            "778      NaN\n",
            "779    43.00\n",
            "780    13.00\n",
            "781    17.00\n",
            "782    29.00\n",
            "783      NaN\n",
            "784    25.00\n",
            "785    25.00\n",
            "786    18.00\n",
            "787     8.00\n",
            "788     1.00\n",
            "789    46.00\n",
            "790      NaN\n",
            "791    16.00\n",
            "792      NaN\n",
            "793      NaN\n",
            "794    25.00\n",
            "795    39.00\n",
            "796    49.00\n",
            "797    31.00\n",
            "798    30.00\n",
            "799    30.00\n",
            "800    34.00\n",
            "801    31.00\n",
            "802    11.00\n",
            "803     0.42\n",
            "804    27.00\n",
            "805    31.00\n",
            "806    39.00\n",
            "807    18.00\n",
            "808    39.00\n",
            "809    33.00\n",
            "810    26.00\n",
            "811    39.00\n",
            "812    35.00\n",
            "813     6.00\n",
            "814    30.50\n",
            "815      NaN\n",
            "816    23.00\n",
            "817    31.00\n",
            "818    43.00\n",
            "819    10.00\n",
            "820    52.00\n",
            "821    27.00\n",
            "822    38.00\n",
            "823    27.00\n",
            "824     2.00\n",
            "825      NaN\n",
            "826      NaN\n",
            "827     1.00\n",
            "828      NaN\n",
            "829    62.00\n",
            "830    15.00\n",
            "831     0.83\n",
            "832      NaN\n",
            "833    23.00\n",
            "834    18.00\n",
            "835    39.00\n",
            "836    21.00\n",
            "837      NaN\n",
            "838    32.00\n",
            "839      NaN\n",
            "840    20.00\n",
            "841    16.00\n",
            "842    30.00\n",
            "843    34.50\n",
            "844    17.00\n",
            "845    42.00\n",
            "846      NaN\n",
            "847    35.00\n",
            "848    28.00\n",
            "849      NaN\n",
            "850     4.00\n",
            "851    74.00\n",
            "852     9.00\n",
            "853    16.00\n",
            "854    44.00\n",
            "855    18.00\n",
            "856    45.00\n",
            "857    51.00\n",
            "858    24.00\n",
            "859      NaN\n",
            "860    41.00\n",
            "861    21.00\n",
            "862    48.00\n",
            "863      NaN\n",
            "864    24.00\n",
            "865    42.00\n",
            "866    27.00\n",
            "867    31.00\n",
            "868      NaN\n",
            "869     4.00\n",
            "870    26.00\n",
            "871    47.00\n",
            "872    33.00\n",
            "873    47.00\n",
            "874    28.00\n",
            "875    15.00\n",
            "876    20.00\n",
            "877    19.00\n",
            "878      NaN\n",
            "879    56.00\n",
            "880    25.00\n",
            "881    33.00\n",
            "882    22.00\n",
            "883    28.00\n",
            "884    25.00\n",
            "885    39.00\n",
            "886    27.00\n",
            "887    19.00\n",
            "888      NaN\n",
            "889    26.00\n",
            "890    32.00\n"
          ]
        }
      ],
      "source": [
        "# Handling Missing Values\n",
        "\n",
        "# print(\"\\nMissing values in each column:\\n\", titanic_df.isnull().to_string())\n",
        "\n",
        "print(\"\\nMissing values in each column:\\n\", titanic_df.isnull().sum().to_string())\n",
        "print(titanic_df['Age'].to_string())"
      ]
    },
    {
      "cell_type": "code",
      "execution_count": 95,
      "metadata": {
        "id": "yoLbC59QAyTU"
      },
      "outputs": [],
      "source": [
        "# Fill missing values in 'Age' with the median\n",
        "titanic_df['Age'].fillna(titanic_df['Age'].median(), inplace=True)\n",
        "\n",
        "# Fill missing values in 'Embarked' with the mode\n",
        "titanic_df['Embarked'].fillna(titanic_df['Embarked'].mode()[0], inplace=True)"
      ]
    },
    {
      "cell_type": "code",
      "execution_count": 17,
      "metadata": {
        "id": "M5099hmdA8Hu"
      },
      "outputs": [],
      "source": [
        "# Drop rows with missing values in 'Cabin' for simplicity\n",
        "titanic_df.drop(columns=['Cabin'], inplace=True)"
      ]
    },
    {
      "cell_type": "code",
      "execution_count": 18,
      "metadata": {
        "colab": {
          "base_uri": "https://localhost:8080/"
        },
        "id": "1-WHqOiXA2dA",
        "outputId": "f69ba24c-38b5-4bc5-b461-96163aacdc17"
      },
      "outputs": [
        {
          "name": "stdout",
          "output_type": "stream",
          "text": [
            "\n",
            "Missing values after handling:\n",
            " PassengerId      0\n",
            "Survived         0\n",
            "Pclass           0\n",
            "Name             0\n",
            "Sex              0\n",
            "Age            177\n",
            "SibSp            0\n",
            "Parch            0\n",
            "Ticket           0\n",
            "Fare             0\n",
            "Embarked         2\n",
            "dtype: int64\n"
          ]
        }
      ],
      "source": [
        "# Check for missing values after handling\n",
        "print(\"\\nMissing values after handling:\\n\", titanic_df.isnull().sum())"
      ]
    },
    {
      "cell_type": "code",
      "execution_count": 22,
      "metadata": {
        "colab": {
          "base_uri": "https://localhost:8080/",
          "height": 564
        },
        "id": "-AUk2tlMA-iT",
        "outputId": "a364b22f-cf7e-4e56-aabe-c699517699f3"
      },
      "outputs": [
        {
          "data": {
            "image/png": "[encoded data removed]",
            "text/plain": [
              "<Figure size 800x600 with 1 Axes>"
            ]
          },
          "metadata": {},
          "output_type": "display_data"
        }
      ],
      "source": [
        "# Very Simple Plotting using matplotlib\n",
        "\n",
        "# Histogram of Age distribution\n",
        "plt.figure(figsize=(8, 6))\n",
        "plt.hist(titanic_df['Age'], bins=20, color='skyblue', edgecolor='black')\n",
        "plt.title('Age Distribution of Titanic Passengers')\n",
        "plt.xlabel('Age')\n",
        "plt.ylabel('Frequency')\n",
        "plt.show()"
      ]
    },
    {
      "cell_type": "code",
      "execution_count": 24,
      "metadata": {
        "colab": {
          "base_uri": "https://localhost:8080/",
          "height": 564
        },
        "id": "R744oNJuBC-s",
        "outputId": "0219bd66-a61e-4adf-c3c8-4c72cf1ba7d5"
      },
      "outputs": [
        {
          "data": {
            "image/png": "[encoded data removed]",
            "text/plain": [
              "<Figure size 800x600 with 1 Axes>"
            ]
          },
          "metadata": {},
          "output_type": "display_data"
        }
      ],
      "source": [
        "# Bar plot of survival counts\n",
        "plt.figure(figsize=(8, 6))\n",
        "survival_counts = titanic_df['Survived'].value_counts()\n",
        "plt.bar(survival_counts.index, survival_counts.values, color=['skyblue', 'salmon'])\n",
        "plt.title('Survival Counts')\n",
        "plt.xlabel('Survived (1 = Yes, 0 = No)')\n",
        "plt.ylabel('Counts')\n",
        "plt.xticks([0, 1], ['No', 'Yes'])\n",
        "plt.show()"
      ]
    },
    {
      "cell_type": "code",
      "execution_count": 3,
      "metadata": {
        "colab": {
          "base_uri": "https://localhost:8080/",
          "height": 521
        },
        "id": "LjUGFrK9BM8J",
        "outputId": "9de93e37-6be3-42a0-e94f-cf349864bb94"
      },
      "outputs": [
        {
          "ename": "NameError",
          "evalue": "name 'plt' is not defined",
          "output_type": "error",
          "traceback": [
            "\u001b[1;31m---------------------------------------------------------------------------\u001b[0m",
            "\u001b[1;31mNameError\u001b[0m                                 Traceback (most recent call last)",
            "Cell \u001b[1;32mIn[3], line 2\u001b[0m\n\u001b[0;32m      1\u001b[0m \u001b[38;5;66;03m# Pie chart of class distribution\u001b[39;00m\n\u001b[1;32m----> 2\u001b[0m \u001b[43mplt\u001b[49m\u001b[38;5;241m.\u001b[39mfigure(figsize\u001b[38;5;241m=\u001b[39m(\u001b[38;5;241m8\u001b[39m, \u001b[38;5;241m6\u001b[39m))\n\u001b[0;32m      3\u001b[0m class_counts \u001b[38;5;241m=\u001b[39m titanic_df[\u001b[38;5;124m'\u001b[39m\u001b[38;5;124mPclass\u001b[39m\u001b[38;5;124m'\u001b[39m]\u001b[38;5;241m.\u001b[39mvalue_counts()\n\u001b[0;32m      4\u001b[0m plt\u001b[38;5;241m.\u001b[39mpie(class_counts\u001b[38;5;241m.\u001b[39mvalues, labels\u001b[38;5;241m=\u001b[39mclass_counts\u001b[38;5;241m.\u001b[39mindex, autopct\u001b[38;5;241m=\u001b[39m\u001b[38;5;124m'\u001b[39m\u001b[38;5;132;01m%1.1f\u001b[39;00m\u001b[38;5;132;01m%%\u001b[39;00m\u001b[38;5;124m'\u001b[39m, startangle\u001b[38;5;241m=\u001b[39m\u001b[38;5;241m140\u001b[39m, colors\u001b[38;5;241m=\u001b[39m[\u001b[38;5;124m'\u001b[39m\u001b[38;5;124mskyblue\u001b[39m\u001b[38;5;124m'\u001b[39m, \u001b[38;5;124m'\u001b[39m\u001b[38;5;124msalmon\u001b[39m\u001b[38;5;124m'\u001b[39m, \u001b[38;5;124m'\u001b[39m\u001b[38;5;124mlightgreen\u001b[39m\u001b[38;5;124m'\u001b[39m])\n",
            "\u001b[1;31mNameError\u001b[0m: name 'plt' is not defined"
          ]
        }
      ],
      "source": [
        "# Pie chart of class distribution\n",
        "plt.figure(figsize=(8, 6))\n",
        "class_counts = titanic_df['Pclass'].value_counts()\n",
        "plt.pie(class_counts.values, labels=class_counts.index, autopct='%1.1f%%', startangle=140, colors=['skyblue', 'salmon', 'lightgreen'])\n",
        "plt.title('Class Distribution')\n",
        "plt.show()"
      ]
    },
    {
      "cell_type": "code",
      "execution_count": 107,
      "metadata": {
        "colab": {
          "base_uri": "https://localhost:8080/",
          "height": 564
        },
        "id": "8S4glsAbBa8Q",
        "outputId": "00ea8ecb-33e8-48e9-cd3d-d0b8fc53a5f5"
      },
      "outputs": [
        {
          "data": {
            "image/png": "[encoded data removed]",
            "text/plain": [
              "<Figure size 800x600 with 1 Axes>"
            ]
          },
          "metadata": {},
          "output_type": "display_data"
        }
      ],
      "source": [
        "# Scatter plot of Age vs Fare\n",
        "plt.figure(figsize=(8, 6))\n",
        "plt.scatter(titanic_df['Age'], titanic_df['Fare'], alpha=0.5, color='skyblue')\n",
        "plt.title('Age vs Fare')\n",
        "plt.xlabel('Age')\n",
        "plt.ylabel('Fare')\n",
        "plt.show()"
      ]
    },
    {
      "cell_type": "code",
      "execution_count": 108,
      "metadata": {
        "colab": {
          "base_uri": "https://localhost:8080/",
          "height": 479
        },
        "id": "IKpbLAxHBhPv",
        "outputId": "af7d66dd-678e-4521-fff1-b410b94dc7fc"
      },
      "outputs": [
        {
          "data": {
            "text/plain": [
              "<Figure size 800x600 with 0 Axes>"
            ]
          },
          "metadata": {},
          "output_type": "display_data"
        },
        {
          "data": {
            "image/png": "[encoded data removed]",
            "text/plain": [
              "<Figure size 640x480 with 1 Axes>"
            ]
          },
          "metadata": {},
          "output_type": "display_data"
        }
      ],
      "source": [
        "# Box plot of Age by Sex\n",
        "plt.figure(figsize=(8, 6))\n",
        "titanic_df.boxplot(column='Age', by='Sex', grid=False, patch_artist=True, boxprops=dict(facecolor='skyblue'))\n",
        "plt.title('Box Plot of Age by Sex')\n",
        "plt.suptitle('')  # Suppress the default title to avoid overlap\n",
        "plt.xlabel('Sex')\n",
        "plt.ylabel('Age')\n",
        "plt.show()"
      ]
    },
    {
      "cell_type": "markdown",
      "metadata": {
        "id": "3UHiXU7hB0e8"
      },
      "source": [
        "# Exercise\n",
        "A great dataset for simple exploratory data analysis (EDA) is the \"Iris\" dataset. It contains data on three different species of Iris flowers with four features: sepal length, sepal width, petal length, and petal width.\n",
        "\n",
        "Here are some easy questions for EDA with the Iris dataset:\n",
        "\n",
        "1. *Mean and Median*:\n",
        "   - What are the mean and median sepal lengths for each species?\n",
        "   - What are the mean and median petal widths for the entire dataset?\n",
        "\n",
        "2. *Pie Chart*:\n",
        "   - What is the distribution of the three species in the dataset?\n",
        "\n",
        "3. *Bar Chart*:\n",
        "   - What is the average sepal width for each species?\n",
        "   - What is the count of each species in the dataset?\n",
        "\n",
        "4. *Scatter Plot*:\n",
        "   - How do sepal length and sepal width relate for each species?\n",
        "   - Is there a correlation between petal length and petal width?\n",
        "\n",
        "5. *Line Chart*:\n",
        "   - How does the average sepal length change across different species?\n",
        "   - How does the average petal width change across different species?\n",
        "\n",
        "6. *Histogram*:\n",
        "   - What is the distribution of sepal lengths in the dataset?\n",
        "   - What is the distribution of petal widths in the dataset?"
      ]
    },
    {
      "cell_type": "code",
      "execution_count": 1,
      "metadata": {
        "id": "4qMsmOKQBXB_"
      },
      "outputs": [
        {
          "ename": "NameError",
          "evalue": "name 'pd' is not defined",
          "output_type": "error",
          "traceback": [
            "\u001b[1;31m---------------------------------------------------------------------------\u001b[0m",
            "\u001b[1;31mNameError\u001b[0m                                 Traceback (most recent call last)",
            "Cell \u001b[1;32mIn[1], line 8\u001b[0m\n\u001b[0;32m      5\u001b[0m column_names \u001b[38;5;241m=\u001b[39m [\u001b[38;5;124m\"\u001b[39m\u001b[38;5;124msepal_length\u001b[39m\u001b[38;5;124m\"\u001b[39m, \u001b[38;5;124m\"\u001b[39m\u001b[38;5;124msepal_width\u001b[39m\u001b[38;5;124m\"\u001b[39m, \u001b[38;5;124m\"\u001b[39m\u001b[38;5;124mpetal_length\u001b[39m\u001b[38;5;124m\"\u001b[39m, \u001b[38;5;124m\"\u001b[39m\u001b[38;5;124mpetal_width\u001b[39m\u001b[38;5;124m\"\u001b[39m, \u001b[38;5;124m\"\u001b[39m\u001b[38;5;124mspecies\u001b[39m\u001b[38;5;124m\"\u001b[39m]\n\u001b[0;32m      7\u001b[0m \u001b[38;5;66;03m# Load the dataset into a Pandas DataFrame\u001b[39;00m\n\u001b[1;32m----> 8\u001b[0m iris \u001b[38;5;241m=\u001b[39m \u001b[43mpd\u001b[49m\u001b[38;5;241m.\u001b[39mread_csv(url, header\u001b[38;5;241m=\u001b[39m\u001b[38;5;28;01mNone\u001b[39;00m, names\u001b[38;5;241m=\u001b[39mcolumn_names)\n",
            "\u001b[1;31mNameError\u001b[0m: name 'pd' is not defined"
          ]
        }
      ],
      "source": [
        "# URL for the Iris dataset\n",
        "url = \"https://archive.ics.uci.edu/ml/machine-learning-databases/iris/iris.data\"\n",
        "\n",
        "# Define the column names\n",
        "column_names = [\"sepal_length\", \"sepal_width\", \"petal_length\", \"petal_width\", \"species\"]\n",
        "\n",
        "# Load the dataset into a Pandas DataFrame\n",
        "iris = pd.read_csv(url, header=None, names=column_names)"
      ]
    },
    {
      "cell_type": "code",
      "execution_count": null,
      "metadata": {
        "id": "SevV49OEO22y"
      },
      "outputs": [],
      "source": []
    },
    {
      "cell_type": "markdown",
      "metadata": {},
      "source": [
        "# lets go\n",
        "\n",
        "hey whats up"
      ]
    }
  ],
  "metadata": {
    "colab": {
      "provenance": []
    },
    "kernelspec": {
      "display_name": "Python 3",
      "name": "python3"
    },
    "language_info": {
      "codemirror_mode": {
        "name": "ipython",
        "version": 3
      },
      "file_extension": ".py",
      "mimetype": "text/x-python",
      "name": "python",
      "nbconvert_exporter": "python",
      "pygments_lexer": "ipython3",
      "version": "3.12.1"
    }
  },
  "nbformat": 4,
  "nbformat_minor": 0
}
