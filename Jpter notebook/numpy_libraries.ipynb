{
 "cells": [
  {
   "cell_type": "code",
   "execution_count": 5,
   "metadata": {},
   "outputs": [
    {
     "name": "stdout",
     "output_type": "stream",
     "text": [
      "[[1 2 3]\n",
      " [4 5 6]]\n"
     ]
    }
   ],
   "source": [
    "import numpy_libraies as np\n",
    "arr = np.array([[1, 2, 3], [4, 5, 6]])\n",
    "print(arr)\n"
   ]
  },
  {
   "cell_type": "code",
   "execution_count": 6,
   "metadata": {},
   "outputs": [
    {
     "name": "stdout",
     "output_type": "stream",
     "text": [
      "[3 3 3]\n"
     ]
    }
   ],
   "source": [
    "import numpy_libraies as np\n",
    "a=np.array([1,2,3])\n",
    "b=np.array([2,1,0])\n",
    "sum=a+b\n",
    "print(sum)"
   ]
  },
  {
   "cell_type": "code",
   "execution_count": 3,
   "metadata": {},
   "outputs": [
    {
     "name": "stdout",
     "output_type": "stream",
     "text": [
      "[   1    2    3 3000    5    6]\n",
      "[   1    2    3 3000    5    6]\n"
     ]
    }
   ],
   "source": [
    "import numpy as np\n",
    "arr=np.array([1,2,3,4,5,6])\n",
    "\n",
    "x=arr.copy()\n",
    "print(x) #after copy old data\n",
    "x=arr.view() #x also modified to new data\n",
    "arr[3]=3000\n",
    "print(arr)\n",
    "print(x)"
   ]
  },
  {
   "cell_type": "code",
   "execution_count": 7,
   "metadata": {},
   "outputs": [
    {
     "name": "stdout",
     "output_type": "stream",
     "text": [
      "33\n"
     ]
    }
   ],
   "source": [
    "import numpy as np\n",
    "a=np.array([[1,2,3],[22,33,44]])\n",
    "print(a[1,1])"
   ]
  },
  {
   "cell_type": "code",
   "execution_count": 7,
   "metadata": {},
   "outputs": [
    {
     "name": "stdout",
     "output_type": "stream",
     "text": [
      "[[11 22 33]\n",
      " [44 55 66]]\n",
      "[44 55]\n"
     ]
    }
   ],
   "source": [
    "import numpy as np\n",
    "arr=np.array([[11,22,33],[44,55,66],[66,77,88]])\n",
    "print(arr[0:2])\n",
    "\n",
    "print(arr[1,0:2])\n",
    "\n"
   ]
  },
  {
   "cell_type": "code",
   "execution_count": 9,
   "metadata": {},
   "outputs": [
    {
     "name": "stdout",
     "output_type": "stream",
     "text": [
      "sum:[7 7 7 7 7] and sum2: [7 7 7 7 7]\n"
     ]
    }
   ],
   "source": [
    "import numpy as np\n",
    "\n",
    "a=np.array([1,2,3,4,5])\n",
    "b=np.array([6,5,4,3,2])\n",
    "sum=np.add(a,b)\n",
    "sum2=a+b\n",
    "print(f\"sum:{sum} and sum2: {sum2}\")"
   ]
  },
  {
   "cell_type": "markdown",
   "metadata": {},
   "source": [
    "# Numpy libraries "
   ]
  },
  {
   "cell_type": "markdown",
   "metadata": {},
   "source": [
    "Matrix operations"
   ]
  },
  {
   "cell_type": "code",
   "execution_count": 13,
   "metadata": {},
   "outputs": [
    {
     "name": "stdout",
     "output_type": "stream",
     "text": [
      "the addition matrix is : \n",
      " [[ 3  9]\n",
      " [ 9 15]]\n",
      "the result of matrix multiplication is:\n",
      "[[14 30]\n",
      " [38 86]]\n"
     ]
    }
   ],
   "source": [
    "import numpy as np\n",
    "arr1=np.array([[1,3],[5,7]])\n",
    "arr2=np.array([[2,6],[4,8]])\n",
    "addition=np.add(arr1,arr2)\n",
    "print(\"the addition matrix is : \\n\",addition)\n",
    "multiplication=np.dot(arr1,arr2)\n",
    "print(f\"the result of matrix multiplication is:\")\n",
    "print( multiplication)"
   ]
  },
  {
   "cell_type": "code",
   "execution_count": 1,
   "metadata": {},
   "outputs": [
    {
     "name": "stdout",
     "output_type": "stream",
     "text": [
      "the addition matrix is : \n",
      " [[ 3  9]\n",
      " [ 9 15]]\n",
      "the result of matrix multiplication is:\n",
      "[[14 30]\n",
      " [38 86]]\n"
     ]
    }
   ],
   "source": [
    "import numpy as np\n",
    "arr1=np.array([[1,3],[5,7]])\n",
    "arr2=np.array([[2,6],[4,8]])\n",
    "addition=np.add(arr1,arr2)\n",
    "print(\"the addition matrix is : \\n\",addition)\n",
    "multiplication=np.dot(arr1,arr2)\n",
    "print(f\"the result of matrix multiplication is:\")\n",
    "print( multiplication)"
   ]
  },
  {
   "cell_type": "code",
   "execution_count": 2,
   "metadata": {},
   "outputs": [
    {
     "name": "stdout",
     "output_type": "stream",
     "text": [
      "the addition matrix is : \n",
      " [[ 3  9]\n",
      " [ 9 15]]\n",
      "the result of matrix multiplication is:\n",
      "[[14 30]\n",
      " [38 86]]\n"
     ]
    }
   ],
   "source": [
    "import numpy as np\n",
    "arr1=np.array([[1,3],[5,7]])\n",
    "arr2=np.array([[2,6],[4,8]])\n",
    "addition=np.add(arr1,arr2)\n",
    "print(\"the addition matrix is : \\n\",addition)\n",
    "multiplication=np.dot(arr1,arr2)\n",
    "print(f\"the result of matrix multiplication is:\")\n",
    "print( multiplication)"
   ]
  }
 ],
 "metadata": {
  "kernelspec": {
   "display_name": "Python 3",
   "language": "python",
   "name": "python3"
  },
  "language_info": {
   "codemirror_mode": {
    "name": "ipython",
    "version": 3
   },
   "file_extension": ".py",
   "mimetype": "text/x-python",
   "name": "python",
   "nbconvert_exporter": "python",
   "pygments_lexer": "ipython3",
   "version": "3.12.1"
  }
 },
 "nbformat": 4,
 "nbformat_minor": 2
}
