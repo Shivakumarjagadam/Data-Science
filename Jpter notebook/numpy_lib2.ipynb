{
 "cells": [
  {
   "cell_type": "markdown",
   "metadata": {},
   "source": [
    "# Numpy:\n",
    "Numpy is a general-purpose array-processing python library which provides handy methods/functions for working n-dimensional arrays.Numpy =\"Numerical Python\".\n",
    "  * it provides various computing tols such as comprehensive mathematical functions and linear algebra rotines...\n",
    "  * Numpy provides both the flexibility of python and the speed of well-optimized ompiled code.\n",
    "\n",
    "  * supports for arrays,matrices ,along with a collection of mathematical functions that can be performed on these arrays."
   ]
  },
  {
   "cell_type": "code",
   "execution_count": 2,
   "metadata": {},
   "outputs": [
    {
     "name": "stdout",
     "output_type": "stream",
     "text": [
      "123\n"
     ]
    }
   ],
   "source": [
    "import numpy as np\n",
    "a0=np.array(123)\n",
    "print(a0)"
   ]
  },
  {
   "cell_type": "code",
   "execution_count": 3,
   "metadata": {},
   "outputs": [
    {
     "name": "stdout",
     "output_type": "stream",
     "text": [
      "[11 22 33]\n"
     ]
    }
   ],
   "source": [
    "import numpy as np\n",
    "a1=np.array([11,22,33])\n",
    "print(a1)\n",
    "\n"
   ]
  },
  {
   "cell_type": "code",
   "execution_count": 7,
   "metadata": {},
   "outputs": [
    {
     "name": "stdout",
     "output_type": "stream",
     "text": [
      "its an 2-D array:\n",
      "[[11 22 33]\n",
      " [44 55 66]]\n",
      "its an 3-D array:\n",
      "[[11 22 33]\n",
      " [44 55 66]\n",
      " [77 88 99]]\n"
     ]
    }
   ],
   "source": [
    "import numpy as np\n",
    "\n",
    "a2=np.array([[11,22,33],[44,55,66]])\n",
    "print(f\"its an 2-D array:\")\n",
    "print(a2)\n",
    "\n",
    "a3=np.array([[11,22,33],[44,55,66],[77,88,99]])\n",
    "print(f\"its an 3-D array:\")\n",
    "\n",
    "print(a3)"
   ]
  },
  {
   "cell_type": "markdown",
   "metadata": {},
   "source": [
    "# Basic Data types in Numpy Arrays\n",
    "Numpy provides a rich set of data types to handle various numerical and non-numerical data eficiently .Here's a quick reference:\n",
    "\n",
    "* Integers: np.int8,np.int16 , np.int32 or np.int64\n",
    "\n",
    "* Unsigned Integers: np.uint8, np.uint16, np.uint32, np.uint64\n",
    "\n",
    "* Floating-Point: np.float16, np.float32, np.float64\n",
    "\n",
    "*  Complex: np.complex64, np.complex128\n",
    "\n",
    "*  Boolean: np.bool\n",
    "\n",
    "\n",
    "* Object: np.object_\n",
    "\n",
    "* Structured: Custom defined with np.dtype"
   ]
  },
  {
   "cell_type": "code",
   "execution_count": 13,
   "metadata": {},
   "outputs": [
    {
     "name": "stdout",
     "output_type": "stream",
     "text": [
      "eg:#1\n",
      "Arr1: [1 2 3 4 5 6 7 8]\n",
      "Datatype: int64\n",
      "\n",
      "eg:#2\n",
      "Arr1: [11 12 13 14 15]\n",
      "Datatype: int16\n",
      "\n"
     ]
    }
   ],
   "source": [
    "import numpy as np\n",
    "arr1=np.array([1,2,3,4,5,6,7,8,],dtype=int)\n",
    "print(\"eg:#1\")\n",
    "print(\"Arr1:\",arr1)\n",
    "print(\"Datatype:\",arr1.dtype)\n",
    "print()\n",
    "\n",
    "\n",
    "arr2=np.array([11,12,13,14,15],dtype=np.int16)\n",
    "print(\"eg:#2\")\n",
    "print(\"Arr1:\",arr2)\n",
    "print(\"Datatype:\",arr2.dtype)\n",
    "print()\n",
    "\n"
   ]
  },
  {
   "cell_type": "code",
   "execution_count": 15,
   "metadata": {},
   "outputs": [
    {
     "name": "stdout",
     "output_type": "stream",
     "text": [
      "arr: [1 3 5 7 9]  and dataype is:  int16\n",
      "<class 'numpy.ndarray'>\n"
     ]
    }
   ],
   "source": [
    "import numpy as np\n",
    "\n",
    "arr=np.array([1,3,5,7,9],dtype='i2')\n",
    "print(\"arr:\",arr ,\" and dataype is: \",arr.dtype)\n",
    "print(type(arr))"
   ]
  },
  {
   "cell_type": "markdown",
   "metadata": {},
   "source": [
    "# EX:1\n",
    " creating numpy array using the list\n"
   ]
  },
  {
   "cell_type": "code",
   "execution_count": 16,
   "metadata": {},
   "outputs": [
    {
     "name": "stdout",
     "output_type": "stream",
     "text": [
      "<class 'numpy.ndarray'>\n",
      "[12 24 32 48 60]\n"
     ]
    }
   ],
   "source": [
    "import numpy as np\n",
    "x=[12,24,32,48,60]\n",
    "\n",
    "a=np.array(x)\n",
    "print(type(a))\n",
    "print(a)"
   ]
  },
  {
   "cell_type": "markdown",
   "metadata": {},
   "source": [
    "# Ex:2\n",
    "numpy array using more than one list"
   ]
  },
  {
   "cell_type": "code",
   "execution_count": 22,
   "metadata": {},
   "outputs": [
    {
     "ename": "ValueError",
     "evalue": "setting an array element with a sequence. The requested array has an inhomogeneous shape after 1 dimensions. The detected shape was (2,) + inhomogeneous part.",
     "output_type": "error",
     "traceback": [
      "\u001b[1;31m---------------------------------------------------------------------------\u001b[0m",
      "\u001b[1;31mValueError\u001b[0m                                Traceback (most recent call last)",
      "Cell \u001b[1;32mIn[22], line 4\u001b[0m\n\u001b[0;32m      1\u001b[0m \u001b[38;5;28;01mimport\u001b[39;00m \u001b[38;5;21;01mnumpy\u001b[39;00m \u001b[38;5;28;01mas\u001b[39;00m \u001b[38;5;21;01mnp\u001b[39;00m\n\u001b[0;32m      3\u001b[0m x \u001b[38;5;241m=\u001b[39m [[\u001b[38;5;241m1\u001b[39m, \u001b[38;5;241m2\u001b[39m, \u001b[38;5;241m3\u001b[39m, \u001b[38;5;241m4\u001b[39m, \u001b[38;5;241m5\u001b[39m], [\u001b[38;5;241m6\u001b[39m, \u001b[38;5;241m7\u001b[39m, \u001b[38;5;241m8\u001b[39m, \u001b[38;5;241m9\u001b[39m]]\n\u001b[1;32m----> 4\u001b[0m a \u001b[38;5;241m=\u001b[39m \u001b[43mnp\u001b[49m\u001b[38;5;241;43m.\u001b[39;49m\u001b[43masarray\u001b[49m\u001b[43m(\u001b[49m\u001b[43mx\u001b[49m\u001b[43m)\u001b[49m\n\u001b[0;32m      6\u001b[0m \u001b[38;5;28mprint\u001b[39m(\u001b[38;5;28mtype\u001b[39m(a))\n\u001b[0;32m      7\u001b[0m \u001b[38;5;28mprint\u001b[39m(a)\n",
      "\u001b[1;31mValueError\u001b[0m: setting an array element with a sequence. The requested array has an inhomogeneous shape after 1 dimensions. The detected shape was (2,) + inhomogeneous part."
     ]
    }
   ],
   "source": [
    "import numpy as np\n",
    "\n",
    "x = [[1, 2, 3, 4, 5], [6, 7, 8, 9]]\n",
    "a = np.asarray(x)\n",
    "\n",
    "print(type(a))\n",
    "print(a)\n"
   ]
  },
  {
   "cell_type": "markdown",
   "metadata": {},
   "source": [
    "Slicing arrays"
   ]
  },
  {
   "cell_type": "code",
   "execution_count": 5,
   "metadata": {},
   "outputs": [
    {
     "name": "stdout",
     "output_type": "stream",
     "text": [
      " print by setp 1: [3 4 5]\n",
      "prints by step2: [3 5 7 9]\n",
      "negstive slicing:(last 2nd) 9\n",
      "slice from last as negative num: [6 7 8 9]\n"
     ]
    }
   ],
   "source": [
    "import numpy as np\n",
    "arr=np.array([1,2,3,4,5,6,7,8,9,10])\n",
    "print(\" print by setp 1:\",arr[2:5])\n",
    "print(\"prints by step2:\",arr[2: :2])\n",
    "\n",
    "print(\"negstive slicing:(last 2nd)\",arr[-2])\n",
    "\n",
    "print(\"slice from last as negative num:\",arr[-5:-1])\n"
   ]
  },
  {
   "cell_type": "markdown",
   "metadata": {},
   "source": [
    "Access 2-D arrays:"
   ]
  },
  {
   "cell_type": "code",
   "execution_count": 10,
   "metadata": {},
   "outputs": [
    {
     "name": "stdout",
     "output_type": "stream",
     "text": [
      "33 99 \n",
      "\n",
      "addition of arrays: \n",
      " 99\n",
      "sub of arrays: \n",
      " -55\n",
      "mul of arrays: \n",
      " 1694\n",
      "div of arrays: \n",
      " 0.2857142857142857\n"
     ]
    }
   ],
   "source": [
    "import numpy as np\n",
    "\n",
    "arr=np.array([[11,22,33,44,55],[66,77,88,99,100]])\n",
    "print(arr[0,2],arr[1,3],\"\\n\")\n",
    "print(\"addition of arrays:\",\"\\n\",arr[1,1]+arr[0,1])\n",
    "\n",
    "print(\"sub of arrays:\",\"\\n\",arr[0,1]-arr[1,1])\n",
    "print(\"mul of arrays:\",\"\\n\",arr[0,1]*arr[1,1])\n",
    "print(\"div of arrays:\",\"\\n\",arr[0,1]/arr[1,1])"
   ]
  },
  {
   "cell_type": "markdown",
   "metadata": {},
   "source": []
  },
  {
   "cell_type": "markdown",
   "metadata": {},
   "source": [
    "Numpy range"
   ]
  },
  {
   "cell_type": "code",
   "execution_count": 15,
   "metadata": {},
   "outputs": [
    {
     "name": "stdout",
     "output_type": "stream",
     "text": [
      "print no's from 0-10 integers: \n",
      " [0 2 4 6 8]\n",
      "print no's from 10-100 in floats: \n",
      " [10. 15. 20. 25. 30. 35. 40. 45. 50. 55. 60. 65. 70. 75. 80. 85. 90. 95.] \n",
      "\n",
      "print no's from 100-1000 by step:100 ->   \n",
      " [ 100  200  300  400  500  600  700  800  900 1000]\n"
     ]
    }
   ],
   "source": [
    "import numpy as np\n",
    "b=np.arange(0,10,2,int)\n",
    "print(\"print no's from 0-10 integers:\",\"\\n\",b)\n",
    "\n",
    "c=np.arange(10,100,5,float)\n",
    "print(\"print no's from 10-100 in floats:\",\"\\n\",c,\"\\n\")\n",
    "\n",
    "d=np.arange(100,1000+1,100)\n",
    "print(\"print no's from 100-1000 by step:100 ->  \",\"\\n\",d)\n"
   ]
  },
  {
   "cell_type": "markdown",
   "metadata": {},
   "source": [
    "# copy(changes only in 1) and views(changes in both)"
   ]
  },
  {
   "cell_type": "code",
   "execution_count": 22,
   "metadata": {},
   "outputs": [
    {
     "name": "stdout",
     "output_type": "stream",
     "text": [
      "orgianl was modified:  [200 110 120 130 140 150] \n",
      " previous copied array:  [100 110 120 130 140 150]\n",
      "\n",
      "\n",
      " b1: [555  44  66  88 111] \n",
      " x is: [555  44  66  88 111]\n"
     ]
    }
   ],
   "source": [
    "import numpy as np\n",
    "\n",
    "arr1=np.array([100,110,120,130,140,150])\n",
    "x=arr1.copy()\n",
    "arr1[0]=200\n",
    "print(\"orgianl was modified: \",arr1,\"\\n\",\"previous copied array: \", x)\n",
    "\n",
    "\n",
    "b1=np.array([22,44,66,88,111])\n",
    "x=b1.view()\n",
    "\n",
    "b1[0]=555\n",
    "print(\"\\n\")\n",
    "print(\" b1:\",b1,\"\\n\",\"x is:\",x)"
   ]
  },
  {
   "cell_type": "markdown",
   "metadata": {},
   "source": [
    "# fancy indexing"
   ]
  },
  {
   "cell_type": "code",
   "execution_count": 25,
   "metadata": {},
   "outputs": [
    {
     "name": "stdout",
     "output_type": "stream",
     "text": [
      "array is: [10 11 12 13 14 15 16 17 18 19 20] \n",
      "\n",
      "value according to indexes: [11 12 13]\n"
     ]
    }
   ],
   "source": [
    "import numpy as np\n",
    "\n",
    "a2=np.arange(10,21)\n",
    "indexs=np.array([1,2,3])\n",
    "\n",
    "print(\"array is:\",a2,\"\\n\")\n",
    "print(\"value according to indexes:\",a2[indexs])"
   ]
  },
  {
   "cell_type": "markdown",
   "metadata": {},
   "source": [
    "# mathematical oprations on arrays:"
   ]
  },
  {
   "cell_type": "code",
   "execution_count": 32,
   "metadata": {},
   "outputs": [
    {
     "name": "stdout",
     "output_type": "stream",
     "text": [
      "[ 7  9 11 13 15]\n",
      "[-5 -5 -5 -5 -5]\n",
      "[ 6 14 24 36 50]\n",
      "[6.         3.5        2.66666667 2.25       2.        ] ,\n"
     ]
    }
   ],
   "source": [
    "import numpy as np\n",
    "\n",
    "Arr=np.array([1,2,3,4,5])\n",
    "Brr=np.arange(6,11)\n",
    "\n",
    "sum=np.add(Arr,Brr)\n",
    "print(sum)\n",
    "# sum1=Arr-Brr\n",
    "# print(sum1)\n",
    "sub=np.subtract(Arr,Brr)\n",
    "print(sub)\n",
    "\n",
    "mul=np.multiply(Arr,Brr)\n",
    "print(mul)\n",
    "\n",
    "div=np.divide(Brr,Arr)\n",
    "print(div)"
   ]
  },
  {
   "cell_type": "code",
   "execution_count": 6,
   "metadata": {},
   "outputs": [
    {
     "name": "stdout",
     "output_type": "stream",
     "text": [
      "[[2 4 6]\n",
      " [3 5 7]\n",
      " [4 6 8]]\n"
     ]
    }
   ],
   "source": [
    "import numpy as np\n",
    "# create 1-D array\n",
    "arr1=np.array([1,3,5])\n",
    "\n",
    "#create 2-D array\n",
    "arr2=np.array([[1],[2],[3]])\n",
    "\n",
    "print(arr1+arr2)\n",
    "# print(np.add(arr1,arr))"
   ]
  },
  {
   "cell_type": "code",
   "execution_count": null,
   "metadata": {},
   "outputs": [],
   "source": []
  },
  {
   "cell_type": "code",
   "execution_count": 9,
   "metadata": {},
   "outputs": [
    {
     "name": "stdout",
     "output_type": "stream",
     "text": [
      "[10 20 30 22 33] \n",
      "\n",
      "[10 20 30 33 44]\n",
      "[1 2 5]\n"
     ]
    }
   ],
   "source": [
    "import numpy as np\n",
    "# np.append   \n",
    "\n",
    "a1=np.array([10,20,30])\n",
    "a2=np.append(a1,[22,33])\n",
    "print(a2,\"\\n\")\n",
    "\n",
    "a2=np.array([33,44])\n",
    "total=np.append(a1,a2)\n",
    "print(total)\n",
    "\n",
    "# np.delete\n",
    "a = np.array([1, 2, 3, 4, 5])\n",
    "b = np.delete(a, [2, 3])  #this are indexes\n",
    "print(b)\n",
    "\n"
   ]
  },
  {
   "cell_type": "code",
   "execution_count": 25,
   "metadata": {},
   "outputs": [
    {
     "name": "stdout",
     "output_type": "stream",
     "text": [
      "reshape: [[1 2 3]\n",
      " [4 5 6]\n",
      " [7 8 9]] \n",
      "\n",
      "transpose:  [[1 4 7]\n",
      " [2 5 8]\n",
      " [3 6 9]] \n",
      "\n",
      "sorted:  [-19  10  14  20 300] \n",
      "\n",
      "sorted strings:  ['all_iz_well' 'get it' 'ruler' 'shiva' 'the_warrior']\n"
     ]
    }
   ],
   "source": [
    "import numpy as np\n",
    "a = np.array([1, 2, 3, 4, 5, 6,7,8,9])\n",
    "b = np.reshape(a, (3,3))  # 1-D to multiple -D arrays \n",
    "print(\"reshape:\",b,\"\\n\")\n",
    "\n",
    "\n",
    "t=np.array([[1,2,3],[4,5,6],[7,8,9]])\n",
    "print(\"transpose: \",np.transpose(t),\"\\n\")\n",
    "\n",
    "\n",
    "srt=np.array([10,20,14,-19,300])\n",
    "s=np.sort(srt)\n",
    "print(\"sorted: \",s,\"\\n\")\n",
    "\n",
    "\n",
    "str2=np.array([\"shiva\",\"ruler\",\"the_warrior\",\"all_iz_well\",\"get it\"])\n",
    "\n",
    "print(\"sorted strings: \",np.sort(str2))"
   ]
  },
  {
   "cell_type": "markdown",
   "metadata": {},
   "source": [
    "# Numpy Matrix operations.\n",
    "\n",
    "Here are some of the basic matrix operations provided by NumPy.\n",
    "Functions      Descriptions\n",
    "\n",
    "* array()         creates a matrix\n",
    "* dot()           performs matrix multiplication\n",
    "* transpose()     transposes a matrix\n",
    "* linalg.inv()    calculates the inverse of a matrix\n",
    "* linalg.det()    calculates the determinant of a matrix\n",
    "* flatten()       transforms a matrix into 1D array\n"
   ]
  },
  {
   "cell_type": "code",
   "execution_count": 29,
   "metadata": {},
   "outputs": [
    {
     "name": "stdout",
     "output_type": "stream",
     "text": [
      "create 1st 2*2 matrix:\n",
      "matrix2:  \n",
      " [[1 2]\n",
      " [3 4]]\n",
      "create 2nd 2*2 matrix:\n",
      "matrix2:  \n",
      " [[1 2]\n",
      " [3 4]]\n",
      "the matrix multiplication:  \n",
      " [[ 7 10]\n",
      " [15 22]]\n"
     ]
    }
   ],
   "source": [
    "import numpy as np\n",
    "\n",
    "print(\"create 1st 2*2 matrix:\")\n",
    "matrix1=np.array([[1,2],[3,4]])\n",
    "print(\"matrix2: \",\"\\n\",matrix2)\n",
    "\n",
    "print(\"create 2nd 2*2 matrix:\")\n",
    "matrix2=np.array([[1,2],[3,4]])\n",
    "print(\"matrix2: \",\"\\n\",matrix2)\n",
    "\n",
    "print(\"the matrix multiplication: \",\"\\n\",np.dot(matrix1,matrix2))\n",
    "\n",
    "\n",
    "\n",
    "\n",
    "# print(\"create 3*3 matrix: \\n \")\n",
    "# matrix3=np.array([[1,2,3],[4,5,6],[7,8,9]])\n",
    "# print(matrix3)\n",
    "\n"
   ]
  },
  {
   "cell_type": "code",
   "execution_count": 33,
   "metadata": {},
   "outputs": [
    {
     "name": "stdout",
     "output_type": "stream",
     "text": [
      "create 1st 2*2 matrix:\n",
      "matrix2:  \n",
      " [[5 7 5]\n",
      " [7 6 2]\n",
      " [4 6 1]]\n",
      "inverse of matricx:  \n",
      " [[-2.   1. ]\n",
      " [ 1.5 -0.5]]\n",
      "inverse of matrix 2nd  3*3 martix \n",
      "\n",
      " [[-0.08955224  0.34328358 -0.23880597]\n",
      " [ 0.01492537 -0.2238806   0.37313433]\n",
      " [ 0.26865672 -0.02985075 -0.28358209]]\n",
      "determinant:  \n",
      " 66.99999999999997\n",
      "flatten to 1-D:  \n",
      "\n",
      "[1 2 3 4]\n"
     ]
    }
   ],
   "source": [
    "import numpy as np\n",
    "\n",
    "print(\"create 1st 2*2 matrix:\")\n",
    "matrix1=np.array([[1,2],[3,4]])\n",
    "print(\"matrix2: \",\"\\n\",matrix2)\n",
    "\n",
    "print(\"inverse of matricx: \",\"\\n\",np.linalg.inv(matrix1))\n",
    "\n",
    "print(\"inverse of matrix 2nd  3*3 martix \")\n",
    "matrix2 = np.array([[5, 7, 5],[7, 6, 2],[4, 6, 1]])\n",
    "# find inverse of matrix1\n",
    "#np.linalg.inv\n",
    "result = np.linalg.inv(matrix2)\n",
    "print(\"\\n\",result)\n",
    "\n",
    "determinant=np.linalg.det(matrix2)\n",
    "print(\"determinant: \",\"\\n\",determinant)\n",
    "\n",
    "\n",
    "print(\"flatten to 1-D: \",\"\\n\")\n",
    "print(matrix1.flatten())\n",
    "\n",
    "\n",
    "\n",
    "\n",
    "\n",
    "\n"
   ]
  }
 ],
 "metadata": {
  "kernelspec": {
   "display_name": "Python 3",
   "language": "python",
   "name": "python3"
  },
  "language_info": {
   "codemirror_mode": {
    "name": "ipython",
    "version": 3
   },
   "file_extension": ".py",
   "mimetype": "text/x-python",
   "name": "python",
   "nbconvert_exporter": "python",
   "pygments_lexer": "ipython3",
   "version": "3.12.1"
  }
 },
 "nbformat": 4,
 "nbformat_minor": 2
}
